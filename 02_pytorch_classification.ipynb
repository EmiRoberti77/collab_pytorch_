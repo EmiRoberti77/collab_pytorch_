{
  "nbformat": 4,
  "nbformat_minor": 0,
  "metadata": {
    "colab": {
      "provenance": [],
      "gpuType": "T4",
      "include_colab_link": true
    },
    "kernelspec": {
      "name": "python3",
      "display_name": "Python 3"
    },
    "language_info": {
      "name": "python"
    },
    "accelerator": "GPU"
  },
  "cells": [
    {
      "cell_type": "markdown",
      "metadata": {
        "id": "view-in-github",
        "colab_type": "text"
      },
      "source": [
        "<a href=\"https://colab.research.google.com/github/EmiRoberti77/collab_pytorch_/blob/main/02_pytorch_classification.ipynb\" target=\"_parent\"><img src=\"https://colab.research.google.com/assets/colab-badge.svg\" alt=\"Open In Colab\"/></a>"
      ]
    },
    {
      "cell_type": "markdown",
      "source": [
        "# 02. Neural Network classification with PyTorch\n",
        "\n",
        "Classification is a problem of predicting something is one thing or an other. ( there can be multiple things as the options )"
      ],
      "metadata": {
        "id": "v8ygDaegw5ct"
      }
    },
    {
      "cell_type": "code",
      "execution_count": 207,
      "metadata": {
        "id": "SpvByaUYnA66"
      },
      "outputs": [],
      "source": [
        "## 1. Make classification data\n",
        "import sklearn"
      ]
    },
    {
      "cell_type": "code",
      "source": [
        "from sklearn.datasets import make_circles\n",
        "\n",
        "# make 1000 samples\n",
        "n_samples = 1000\n",
        "# create circles\n",
        "X,y = make_circles(n_samples, noise=0.03, random_state=42)\n",
        "len(X), len(y)"
      ],
      "metadata": {
        "colab": {
          "base_uri": "https://localhost:8080/"
        },
        "id": "9_a9tuLfxhqS",
        "outputId": "5bac6ed0-d5ad-4b43-9ca8-941b38b0a8cb"
      },
      "execution_count": 208,
      "outputs": [
        {
          "output_type": "execute_result",
          "data": {
            "text/plain": [
              "(1000, 1000)"
            ]
          },
          "metadata": {},
          "execution_count": 208
        }
      ]
    },
    {
      "cell_type": "code",
      "source": [
        "#look at the first 5 of C\n",
        "print(f\"first 5 of X\\n{X[:5]}\")\n",
        "print(f\"first 5 of y\\n:{y[:5]}\")"
      ],
      "metadata": {
        "colab": {
          "base_uri": "https://localhost:8080/"
        },
        "id": "gIyjEzJbxow9",
        "outputId": "090bb560-dccd-4b3d-aff1-18083a039b8b"
      },
      "execution_count": 209,
      "outputs": [
        {
          "output_type": "stream",
          "name": "stdout",
          "text": [
            "first 5 of X\n",
            "[[ 0.75424625  0.23148074]\n",
            " [-0.75615888  0.15325888]\n",
            " [-0.81539193  0.17328203]\n",
            " [-0.39373073  0.69288277]\n",
            " [ 0.44220765 -0.89672343]]\n",
            "first 5 of y\n",
            ":[1 1 1 1 0]\n"
          ]
        }
      ]
    },
    {
      "cell_type": "code",
      "source": [
        "y"
      ],
      "metadata": {
        "colab": {
          "base_uri": "https://localhost:8080/"
        },
        "id": "enUncCpfyJ69",
        "outputId": "adbb84d0-530a-4c72-adb0-2fc1983b6981"
      },
      "execution_count": 210,
      "outputs": [
        {
          "output_type": "execute_result",
          "data": {
            "text/plain": [
              "array([1, 1, 1, 1, 0, 1, 1, 1, 1, 0, 1, 0, 1, 1, 1, 1, 0, 1, 1, 0, 1, 0,\n",
              "       0, 1, 0, 0, 0, 1, 1, 1, 0, 0, 1, 0, 0, 0, 1, 1, 1, 0, 0, 0, 0, 1,\n",
              "       0, 0, 1, 1, 0, 1, 1, 1, 0, 1, 0, 0, 1, 0, 0, 1, 0, 0, 1, 0, 1, 1,\n",
              "       1, 1, 0, 1, 0, 0, 1, 1, 0, 0, 1, 0, 1, 0, 1, 0, 0, 0, 0, 1, 1, 1,\n",
              "       1, 0, 0, 0, 1, 0, 1, 0, 1, 0, 0, 1, 1, 0, 1, 0, 1, 1, 1, 1, 0, 1,\n",
              "       1, 1, 1, 1, 0, 0, 0, 1, 1, 0, 1, 0, 1, 0, 0, 1, 1, 0, 1, 1, 1, 1,\n",
              "       0, 1, 1, 0, 0, 0, 0, 0, 0, 0, 1, 0, 1, 1, 1, 0, 1, 0, 1, 0, 1, 0,\n",
              "       1, 0, 0, 1, 0, 1, 1, 1, 1, 1, 1, 1, 0, 1, 0, 0, 0, 0, 0, 1, 0, 0,\n",
              "       0, 0, 1, 1, 0, 1, 0, 1, 1, 0, 0, 0, 1, 1, 1, 1, 1, 0, 0, 0, 0, 0,\n",
              "       1, 0, 0, 1, 1, 1, 1, 1, 0, 1, 0, 1, 0, 0, 1, 1, 1, 0, 1, 0, 1, 1,\n",
              "       0, 1, 1, 0, 1, 0, 1, 0, 1, 1, 0, 1, 0, 1, 0, 0, 0, 1, 0, 0, 0, 0,\n",
              "       1, 1, 0, 0, 0, 0, 0, 0, 0, 1, 1, 1, 0, 0, 1, 1, 1, 0, 1, 0, 0, 0,\n",
              "       0, 1, 1, 0, 1, 0, 0, 0, 1, 0, 1, 0, 0, 1, 0, 1, 1, 1, 0, 0, 0, 1,\n",
              "       0, 0, 0, 1, 1, 1, 1, 0, 0, 0, 1, 0, 0, 0, 1, 0, 0, 0, 1, 1, 0, 1,\n",
              "       1, 1, 1, 1, 1, 1, 0, 0, 0, 0, 1, 0, 0, 0, 0, 1, 1, 1, 0, 0, 1, 0,\n",
              "       1, 0, 1, 1, 0, 0, 1, 1, 1, 1, 0, 0, 0, 0, 0, 0, 1, 1, 0, 1, 0, 0,\n",
              "       1, 0, 0, 0, 0, 0, 0, 0, 0, 1, 0, 0, 0, 0, 1, 0, 0, 1, 0, 1, 0, 0,\n",
              "       0, 1, 0, 0, 1, 1, 0, 0, 1, 0, 0, 1, 1, 0, 1, 1, 0, 0, 1, 0, 1, 0,\n",
              "       0, 0, 1, 1, 0, 0, 1, 1, 1, 1, 1, 0, 0, 1, 1, 1, 1, 0, 1, 1, 1, 1,\n",
              "       1, 0, 0, 1, 0, 1, 0, 0, 0, 0, 1, 0, 0, 0, 0, 0, 0, 0, 0, 0, 1, 1,\n",
              "       0, 1, 1, 1, 1, 1, 1, 0, 1, 1, 1, 1, 0, 0, 0, 1, 1, 1, 0, 0, 0, 0,\n",
              "       1, 1, 0, 0, 0, 0, 1, 0, 0, 0, 1, 0, 0, 1, 1, 1, 1, 1, 1, 0, 0, 0,\n",
              "       1, 0, 0, 0, 0, 0, 1, 1, 1, 0, 0, 0, 0, 0, 1, 1, 1, 0, 0, 1, 1, 1,\n",
              "       1, 0, 1, 1, 0, 1, 0, 0, 0, 1, 0, 0, 1, 0, 0, 1, 1, 0, 0, 1, 1, 0,\n",
              "       1, 0, 1, 0, 1, 0, 1, 0, 0, 0, 1, 0, 0, 0, 0, 0, 0, 1, 1, 1, 1, 0,\n",
              "       0, 0, 1, 0, 1, 1, 0, 0, 0, 0, 0, 1, 1, 1, 0, 0, 1, 0, 0, 1, 0, 0,\n",
              "       1, 0, 0, 1, 0, 0, 0, 1, 0, 0, 1, 1, 1, 0, 1, 1, 0, 0, 0, 1, 1, 1,\n",
              "       1, 0, 0, 1, 1, 1, 0, 0, 0, 0, 1, 1, 0, 0, 1, 1, 0, 0, 1, 1, 1, 1,\n",
              "       1, 1, 1, 0, 1, 0, 1, 0, 0, 1, 0, 1, 1, 1, 1, 0, 0, 1, 1, 0, 0, 1,\n",
              "       0, 1, 0, 0, 0, 1, 0, 0, 1, 1, 1, 1, 0, 1, 1, 1, 1, 1, 1, 1, 0, 1,\n",
              "       0, 1, 1, 1, 0, 0, 1, 0, 0, 0, 1, 1, 1, 1, 0, 0, 0, 0, 1, 0, 1, 1,\n",
              "       1, 0, 1, 0, 0, 1, 0, 0, 1, 1, 1, 1, 1, 0, 1, 0, 0, 0, 1, 1, 1, 1,\n",
              "       1, 0, 0, 0, 1, 1, 1, 1, 0, 0, 0, 0, 0, 1, 1, 0, 1, 0, 1, 0, 0, 0,\n",
              "       0, 0, 0, 0, 0, 0, 1, 1, 1, 1, 1, 0, 1, 0, 1, 1, 1, 1, 0, 1, 1, 1,\n",
              "       1, 1, 1, 1, 1, 0, 1, 1, 0, 1, 0, 0, 0, 1, 0, 1, 1, 1, 0, 1, 1, 0,\n",
              "       1, 1, 0, 1, 0, 1, 1, 0, 0, 1, 1, 1, 0, 0, 0, 0, 1, 1, 0, 0, 1, 1,\n",
              "       1, 1, 1, 1, 1, 1, 1, 1, 1, 1, 1, 1, 0, 0, 1, 0, 1, 0, 1, 0, 1, 1,\n",
              "       1, 1, 1, 1, 0, 1, 0, 1, 1, 1, 0, 1, 1, 0, 0, 1, 0, 1, 1, 0, 0, 1,\n",
              "       1, 1, 1, 1, 1, 1, 1, 0, 1, 1, 1, 0, 1, 0, 0, 1, 1, 0, 0, 0, 1, 0,\n",
              "       0, 1, 0, 0, 0, 1, 0, 1, 0, 0, 0, 0, 1, 0, 1, 1, 1, 1, 0, 1, 0, 0,\n",
              "       0, 0, 0, 0, 1, 0, 1, 0, 1, 0, 1, 1, 1, 0, 1, 0, 1, 0, 0, 1, 1, 1,\n",
              "       0, 0, 0, 1, 1, 0, 1, 0, 1, 1, 0, 1, 0, 0, 1, 1, 1, 0, 0, 0, 1, 1,\n",
              "       0, 0, 0, 0, 0, 1, 1, 0, 1, 0, 0, 0, 1, 0, 0, 0, 1, 1, 1, 1, 0, 1,\n",
              "       1, 1, 0, 1, 1, 1, 1, 0, 1, 1, 0, 1, 1, 0, 0, 1, 1, 1, 0, 0, 0, 0,\n",
              "       0, 0, 1, 0, 0, 1, 0, 0, 0, 1, 0, 1, 0, 1, 1, 0, 0, 0, 0, 0, 0, 0,\n",
              "       0, 1, 0, 1, 0, 0, 0, 1, 0, 0])"
            ]
          },
          "metadata": {},
          "execution_count": 210
        }
      ]
    },
    {
      "cell_type": "code",
      "source": [
        "# Make dataframe with Pandas\n",
        "import pandas as pd\n",
        "circles = pd.DataFrame({\n",
        "                        \"X1\":X[:,0],\n",
        "                        \"X2\":X[:,1],\n",
        "                        \"label\": y\n",
        "                      })\n"
      ],
      "metadata": {
        "id": "DfsyCMrBQEGZ"
      },
      "execution_count": 211,
      "outputs": []
    },
    {
      "cell_type": "code",
      "source": [
        "circles.head(10)"
      ],
      "metadata": {
        "colab": {
          "base_uri": "https://localhost:8080/",
          "height": 363
        },
        "id": "DLxy9tifQiJb",
        "outputId": "85b2fe00-e43a-4104-c51f-4705922828c5"
      },
      "execution_count": 212,
      "outputs": [
        {
          "output_type": "execute_result",
          "data": {
            "text/plain": [
              "         X1        X2  label\n",
              "0  0.754246  0.231481      1\n",
              "1 -0.756159  0.153259      1\n",
              "2 -0.815392  0.173282      1\n",
              "3 -0.393731  0.692883      1\n",
              "4  0.442208 -0.896723      0\n",
              "5 -0.479646  0.676435      1\n",
              "6 -0.013648  0.803349      1\n",
              "7  0.771513  0.147760      1\n",
              "8 -0.169322 -0.793456      1\n",
              "9 -0.121486  1.021509      0"
            ],
            "text/html": [
              "\n",
              "  <div id=\"df-b6815c1b-2529-44b5-8c45-f19652b0f308\" class=\"colab-df-container\">\n",
              "    <div>\n",
              "<style scoped>\n",
              "    .dataframe tbody tr th:only-of-type {\n",
              "        vertical-align: middle;\n",
              "    }\n",
              "\n",
              "    .dataframe tbody tr th {\n",
              "        vertical-align: top;\n",
              "    }\n",
              "\n",
              "    .dataframe thead th {\n",
              "        text-align: right;\n",
              "    }\n",
              "</style>\n",
              "<table border=\"1\" class=\"dataframe\">\n",
              "  <thead>\n",
              "    <tr style=\"text-align: right;\">\n",
              "      <th></th>\n",
              "      <th>X1</th>\n",
              "      <th>X2</th>\n",
              "      <th>label</th>\n",
              "    </tr>\n",
              "  </thead>\n",
              "  <tbody>\n",
              "    <tr>\n",
              "      <th>0</th>\n",
              "      <td>0.754246</td>\n",
              "      <td>0.231481</td>\n",
              "      <td>1</td>\n",
              "    </tr>\n",
              "    <tr>\n",
              "      <th>1</th>\n",
              "      <td>-0.756159</td>\n",
              "      <td>0.153259</td>\n",
              "      <td>1</td>\n",
              "    </tr>\n",
              "    <tr>\n",
              "      <th>2</th>\n",
              "      <td>-0.815392</td>\n",
              "      <td>0.173282</td>\n",
              "      <td>1</td>\n",
              "    </tr>\n",
              "    <tr>\n",
              "      <th>3</th>\n",
              "      <td>-0.393731</td>\n",
              "      <td>0.692883</td>\n",
              "      <td>1</td>\n",
              "    </tr>\n",
              "    <tr>\n",
              "      <th>4</th>\n",
              "      <td>0.442208</td>\n",
              "      <td>-0.896723</td>\n",
              "      <td>0</td>\n",
              "    </tr>\n",
              "    <tr>\n",
              "      <th>5</th>\n",
              "      <td>-0.479646</td>\n",
              "      <td>0.676435</td>\n",
              "      <td>1</td>\n",
              "    </tr>\n",
              "    <tr>\n",
              "      <th>6</th>\n",
              "      <td>-0.013648</td>\n",
              "      <td>0.803349</td>\n",
              "      <td>1</td>\n",
              "    </tr>\n",
              "    <tr>\n",
              "      <th>7</th>\n",
              "      <td>0.771513</td>\n",
              "      <td>0.147760</td>\n",
              "      <td>1</td>\n",
              "    </tr>\n",
              "    <tr>\n",
              "      <th>8</th>\n",
              "      <td>-0.169322</td>\n",
              "      <td>-0.793456</td>\n",
              "      <td>1</td>\n",
              "    </tr>\n",
              "    <tr>\n",
              "      <th>9</th>\n",
              "      <td>-0.121486</td>\n",
              "      <td>1.021509</td>\n",
              "      <td>0</td>\n",
              "    </tr>\n",
              "  </tbody>\n",
              "</table>\n",
              "</div>\n",
              "    <div class=\"colab-df-buttons\">\n",
              "\n",
              "  <div class=\"colab-df-container\">\n",
              "    <button class=\"colab-df-convert\" onclick=\"convertToInteractive('df-b6815c1b-2529-44b5-8c45-f19652b0f308')\"\n",
              "            title=\"Convert this dataframe to an interactive table.\"\n",
              "            style=\"display:none;\">\n",
              "\n",
              "  <svg xmlns=\"http://www.w3.org/2000/svg\" height=\"24px\" viewBox=\"0 -960 960 960\">\n",
              "    <path d=\"M120-120v-720h720v720H120Zm60-500h600v-160H180v160Zm220 220h160v-160H400v160Zm0 220h160v-160H400v160ZM180-400h160v-160H180v160Zm440 0h160v-160H620v160ZM180-180h160v-160H180v160Zm440 0h160v-160H620v160Z\"/>\n",
              "  </svg>\n",
              "    </button>\n",
              "\n",
              "  <style>\n",
              "    .colab-df-container {\n",
              "      display:flex;\n",
              "      gap: 12px;\n",
              "    }\n",
              "\n",
              "    .colab-df-convert {\n",
              "      background-color: #E8F0FE;\n",
              "      border: none;\n",
              "      border-radius: 50%;\n",
              "      cursor: pointer;\n",
              "      display: none;\n",
              "      fill: #1967D2;\n",
              "      height: 32px;\n",
              "      padding: 0 0 0 0;\n",
              "      width: 32px;\n",
              "    }\n",
              "\n",
              "    .colab-df-convert:hover {\n",
              "      background-color: #E2EBFA;\n",
              "      box-shadow: 0px 1px 2px rgba(60, 64, 67, 0.3), 0px 1px 3px 1px rgba(60, 64, 67, 0.15);\n",
              "      fill: #174EA6;\n",
              "    }\n",
              "\n",
              "    .colab-df-buttons div {\n",
              "      margin-bottom: 4px;\n",
              "    }\n",
              "\n",
              "    [theme=dark] .colab-df-convert {\n",
              "      background-color: #3B4455;\n",
              "      fill: #D2E3FC;\n",
              "    }\n",
              "\n",
              "    [theme=dark] .colab-df-convert:hover {\n",
              "      background-color: #434B5C;\n",
              "      box-shadow: 0px 1px 3px 1px rgba(0, 0, 0, 0.15);\n",
              "      filter: drop-shadow(0px 1px 2px rgba(0, 0, 0, 0.3));\n",
              "      fill: #FFFFFF;\n",
              "    }\n",
              "  </style>\n",
              "\n",
              "    <script>\n",
              "      const buttonEl =\n",
              "        document.querySelector('#df-b6815c1b-2529-44b5-8c45-f19652b0f308 button.colab-df-convert');\n",
              "      buttonEl.style.display =\n",
              "        google.colab.kernel.accessAllowed ? 'block' : 'none';\n",
              "\n",
              "      async function convertToInteractive(key) {\n",
              "        const element = document.querySelector('#df-b6815c1b-2529-44b5-8c45-f19652b0f308');\n",
              "        const dataTable =\n",
              "          await google.colab.kernel.invokeFunction('convertToInteractive',\n",
              "                                                    [key], {});\n",
              "        if (!dataTable) return;\n",
              "\n",
              "        const docLinkHtml = 'Like what you see? Visit the ' +\n",
              "          '<a target=\"_blank\" href=https://colab.research.google.com/notebooks/data_table.ipynb>data table notebook</a>'\n",
              "          + ' to learn more about interactive tables.';\n",
              "        element.innerHTML = '';\n",
              "        dataTable['output_type'] = 'display_data';\n",
              "        await google.colab.output.renderOutput(dataTable, element);\n",
              "        const docLink = document.createElement('div');\n",
              "        docLink.innerHTML = docLinkHtml;\n",
              "        element.appendChild(docLink);\n",
              "      }\n",
              "    </script>\n",
              "  </div>\n",
              "\n",
              "\n",
              "    <div id=\"df-11539178-8917-4a78-9e5a-f834cbbe8867\">\n",
              "      <button class=\"colab-df-quickchart\" onclick=\"quickchart('df-11539178-8917-4a78-9e5a-f834cbbe8867')\"\n",
              "                title=\"Suggest charts\"\n",
              "                style=\"display:none;\">\n",
              "\n",
              "<svg xmlns=\"http://www.w3.org/2000/svg\" height=\"24px\"viewBox=\"0 0 24 24\"\n",
              "     width=\"24px\">\n",
              "    <g>\n",
              "        <path d=\"M19 3H5c-1.1 0-2 .9-2 2v14c0 1.1.9 2 2 2h14c1.1 0 2-.9 2-2V5c0-1.1-.9-2-2-2zM9 17H7v-7h2v7zm4 0h-2V7h2v10zm4 0h-2v-4h2v4z\"/>\n",
              "    </g>\n",
              "</svg>\n",
              "      </button>\n",
              "\n",
              "<style>\n",
              "  .colab-df-quickchart {\n",
              "      --bg-color: #E8F0FE;\n",
              "      --fill-color: #1967D2;\n",
              "      --hover-bg-color: #E2EBFA;\n",
              "      --hover-fill-color: #174EA6;\n",
              "      --disabled-fill-color: #AAA;\n",
              "      --disabled-bg-color: #DDD;\n",
              "  }\n",
              "\n",
              "  [theme=dark] .colab-df-quickchart {\n",
              "      --bg-color: #3B4455;\n",
              "      --fill-color: #D2E3FC;\n",
              "      --hover-bg-color: #434B5C;\n",
              "      --hover-fill-color: #FFFFFF;\n",
              "      --disabled-bg-color: #3B4455;\n",
              "      --disabled-fill-color: #666;\n",
              "  }\n",
              "\n",
              "  .colab-df-quickchart {\n",
              "    background-color: var(--bg-color);\n",
              "    border: none;\n",
              "    border-radius: 50%;\n",
              "    cursor: pointer;\n",
              "    display: none;\n",
              "    fill: var(--fill-color);\n",
              "    height: 32px;\n",
              "    padding: 0;\n",
              "    width: 32px;\n",
              "  }\n",
              "\n",
              "  .colab-df-quickchart:hover {\n",
              "    background-color: var(--hover-bg-color);\n",
              "    box-shadow: 0 1px 2px rgba(60, 64, 67, 0.3), 0 1px 3px 1px rgba(60, 64, 67, 0.15);\n",
              "    fill: var(--button-hover-fill-color);\n",
              "  }\n",
              "\n",
              "  .colab-df-quickchart-complete:disabled,\n",
              "  .colab-df-quickchart-complete:disabled:hover {\n",
              "    background-color: var(--disabled-bg-color);\n",
              "    fill: var(--disabled-fill-color);\n",
              "    box-shadow: none;\n",
              "  }\n",
              "\n",
              "  .colab-df-spinner {\n",
              "    border: 2px solid var(--fill-color);\n",
              "    border-color: transparent;\n",
              "    border-bottom-color: var(--fill-color);\n",
              "    animation:\n",
              "      spin 1s steps(1) infinite;\n",
              "  }\n",
              "\n",
              "  @keyframes spin {\n",
              "    0% {\n",
              "      border-color: transparent;\n",
              "      border-bottom-color: var(--fill-color);\n",
              "      border-left-color: var(--fill-color);\n",
              "    }\n",
              "    20% {\n",
              "      border-color: transparent;\n",
              "      border-left-color: var(--fill-color);\n",
              "      border-top-color: var(--fill-color);\n",
              "    }\n",
              "    30% {\n",
              "      border-color: transparent;\n",
              "      border-left-color: var(--fill-color);\n",
              "      border-top-color: var(--fill-color);\n",
              "      border-right-color: var(--fill-color);\n",
              "    }\n",
              "    40% {\n",
              "      border-color: transparent;\n",
              "      border-right-color: var(--fill-color);\n",
              "      border-top-color: var(--fill-color);\n",
              "    }\n",
              "    60% {\n",
              "      border-color: transparent;\n",
              "      border-right-color: var(--fill-color);\n",
              "    }\n",
              "    80% {\n",
              "      border-color: transparent;\n",
              "      border-right-color: var(--fill-color);\n",
              "      border-bottom-color: var(--fill-color);\n",
              "    }\n",
              "    90% {\n",
              "      border-color: transparent;\n",
              "      border-bottom-color: var(--fill-color);\n",
              "    }\n",
              "  }\n",
              "</style>\n",
              "\n",
              "      <script>\n",
              "        async function quickchart(key) {\n",
              "          const quickchartButtonEl =\n",
              "            document.querySelector('#' + key + ' button');\n",
              "          quickchartButtonEl.disabled = true;  // To prevent multiple clicks.\n",
              "          quickchartButtonEl.classList.add('colab-df-spinner');\n",
              "          try {\n",
              "            const charts = await google.colab.kernel.invokeFunction(\n",
              "                'suggestCharts', [key], {});\n",
              "          } catch (error) {\n",
              "            console.error('Error during call to suggestCharts:', error);\n",
              "          }\n",
              "          quickchartButtonEl.classList.remove('colab-df-spinner');\n",
              "          quickchartButtonEl.classList.add('colab-df-quickchart-complete');\n",
              "        }\n",
              "        (() => {\n",
              "          let quickchartButtonEl =\n",
              "            document.querySelector('#df-11539178-8917-4a78-9e5a-f834cbbe8867 button');\n",
              "          quickchartButtonEl.style.display =\n",
              "            google.colab.kernel.accessAllowed ? 'block' : 'none';\n",
              "        })();\n",
              "      </script>\n",
              "    </div>\n",
              "\n",
              "    </div>\n",
              "  </div>\n"
            ],
            "application/vnd.google.colaboratory.intrinsic+json": {
              "type": "dataframe",
              "variable_name": "circles",
              "summary": "{\n  \"name\": \"circles\",\n  \"rows\": 1000,\n  \"fields\": [\n    {\n      \"column\": \"X1\",\n      \"properties\": {\n        \"dtype\": \"number\",\n        \"std\": 0.6398365674574611,\n        \"min\": -1.0595024599098635,\n        \"max\": 1.0337117525463373,\n        \"num_unique_values\": 1000,\n        \"samples\": [\n          -0.3751930206933384,\n          0.015380346701456493,\n          -0.7027835978832848\n        ],\n        \"semantic_type\": \"\",\n        \"description\": \"\"\n      }\n    },\n    {\n      \"column\": \"X2\",\n      \"properties\": {\n        \"dtype\": \"number\",\n        \"std\": 0.6411559581015379,\n        \"min\": -1.0677683182718436,\n        \"max\": 1.0360036756154805,\n        \"num_unique_values\": 1000,\n        \"samples\": [\n          0.6826597225888621,\n          0.9600260220697324,\n          -0.3147169925147762\n        ],\n        \"semantic_type\": \"\",\n        \"description\": \"\"\n      }\n    },\n    {\n      \"column\": \"label\",\n      \"properties\": {\n        \"dtype\": \"number\",\n        \"std\": 0,\n        \"min\": 0,\n        \"max\": 1,\n        \"num_unique_values\": 2,\n        \"samples\": [\n          0,\n          1\n        ],\n        \"semantic_type\": \"\",\n        \"description\": \"\"\n      }\n    }\n  ]\n}"
            }
          },
          "metadata": {},
          "execution_count": 212
        }
      ]
    },
    {
      "cell_type": "code",
      "source": [
        "import matplotlib.pyplot as plt\n",
        "plt.scatter(x=X[:,0], y=X[:,1], c=y, cmap=plt.cm.RdYlBu)"
      ],
      "metadata": {
        "colab": {
          "base_uri": "https://localhost:8080/",
          "height": 448
        },
        "id": "KExCxKczRlmw",
        "outputId": "2610a3f3-cc1b-469e-e826-fe1a174faa9f"
      },
      "execution_count": 213,
      "outputs": [
        {
          "output_type": "execute_result",
          "data": {
            "text/plain": [
              "<matplotlib.collections.PathCollection at 0x7cd84f2f18d0>"
            ]
          },
          "metadata": {},
          "execution_count": 213
        },
        {
          "output_type": "display_data",
          "data": {
            "text/plain": [
              "<Figure size 640x480 with 1 Axes>"
            ],
            "image/png": "[encoded data removed]"
          },
          "metadata": {}
        }
      ]
    },
    {
      "cell_type": "code",
      "source": [
        "X.shape, y.shape"
      ],
      "metadata": {
        "colab": {
          "base_uri": "https://localhost:8080/"
        },
        "id": "6kWaoUiDSfAG",
        "outputId": "8b6035ee-1b19-43b4-a96e-c38d50b7e9b8"
      },
      "execution_count": 214,
      "outputs": [
        {
          "output_type": "execute_result",
          "data": {
            "text/plain": [
              "((1000, 2), (1000,))"
            ]
          },
          "metadata": {},
          "execution_count": 214
        }
      ]
    },
    {
      "cell_type": "code",
      "source": [
        "# View the first example of features and labels\n",
        "X_sample = X[0]\n",
        "y_sample = y[0]\n",
        "print(f\"Sample features: {X_sample}\\nSample label: {y_sample}\")\n",
        "print(f\"Shapes for one sample of X {X_sample.shape} and same for y {y_sample.shape}\")"
      ],
      "metadata": {
        "colab": {
          "base_uri": "https://localhost:8080/"
        },
        "id": "GFF9UbJGUizl",
        "outputId": "26ebcc5d-b1e2-4c6c-cd39-30f1e07273e8"
      },
      "execution_count": 215,
      "outputs": [
        {
          "output_type": "stream",
          "name": "stdout",
          "text": [
            "Sample features: [0.75424625 0.23148074]\n",
            "Sample label: 1\n",
            "Shapes for one sample of X (2,) and same for y ()\n"
          ]
        }
      ]
    },
    {
      "cell_type": "code",
      "source": [
        "type(X), type(y)"
      ],
      "metadata": {
        "colab": {
          "base_uri": "https://localhost:8080/"
        },
        "id": "rpeODRFEfDBi",
        "outputId": "b29a392c-3c44-4d9f-fc00-ed34c2b77ef8"
      },
      "execution_count": 216,
      "outputs": [
        {
          "output_type": "execute_result",
          "data": {
            "text/plain": [
              "(numpy.ndarray, numpy.ndarray)"
            ]
          },
          "metadata": {},
          "execution_count": 216
        }
      ]
    },
    {
      "cell_type": "code",
      "source": [
        "## get the data into tensor\n",
        "import torch\n",
        "print(torch.__version__)\n",
        "type(X)"
      ],
      "metadata": {
        "colab": {
          "base_uri": "https://localhost:8080/"
        },
        "id": "ak5PW5moU1DH",
        "outputId": "de17b7e8-7768-4a5b-c8c2-65bf0524f2d8"
      },
      "execution_count": 217,
      "outputs": [
        {
          "output_type": "stream",
          "name": "stdout",
          "text": [
            "2.6.0+cu124\n"
          ]
        },
        {
          "output_type": "execute_result",
          "data": {
            "text/plain": [
              "numpy.ndarray"
            ]
          },
          "metadata": {},
          "execution_count": 217
        }
      ]
    },
    {
      "cell_type": "code",
      "source": [
        "#check the type of X\n",
        "print(type(X))\n",
        "# convert into a tensor\n",
        "device = \"cuda\" if torch.cuda.is_available() else \"cpu\"\n",
        "print(device)\n",
        "X = torch.from_numpy(X).type(torch.float)\n",
        "y = torch.from_numpy(y).type(torch.float)\n",
        "X.to(device)\n",
        "y.to(device)\n",
        "print(f\"X is now:{type(X)}, y is now:{type(y)}\")"
      ],
      "metadata": {
        "colab": {
          "base_uri": "https://localhost:8080/"
        },
        "id": "WkFUS8JAYTJg",
        "outputId": "a45ea75f-4b45-4bd8-bd23-04a008d5c119"
      },
      "execution_count": 218,
      "outputs": [
        {
          "output_type": "stream",
          "name": "stdout",
          "text": [
            "<class 'numpy.ndarray'>\n",
            "cpu\n",
            "X is now:<class 'torch.Tensor'>, y is now:<class 'torch.Tensor'>\n"
          ]
        }
      ]
    },
    {
      "cell_type": "code",
      "source": [
        "from sklearn.model_selection import train_test_split\n",
        "X_train, X_test, y_train, y_labels = train_test_split(X,y,test_size=0.2, random_state=42) # 20% of data is test and 80% is training data\n",
        "len(X_train), len(X_test), len(y_train), len(y_labels)"
      ],
      "metadata": {
        "colab": {
          "base_uri": "https://localhost:8080/"
        },
        "id": "Gh9q1vffYg1T",
        "outputId": "d64b6088-a651-4bd8-ac25-5b3ab3a469fa"
      },
      "execution_count": 219,
      "outputs": [
        {
          "output_type": "execute_result",
          "data": {
            "text/plain": [
              "(800, 200, 800, 200)"
            ]
          },
          "metadata": {},
          "execution_count": 219
        }
      ]
    },
    {
      "cell_type": "markdown",
      "source": [
        "# Building a Model\n",
        "\n",
        "we will classify the red or blue dots.\n",
        "\n",
        "to do.\n",
        "1. Set device agnostic code\n",
        "2. construct a model ( by subclassing `nn.Module` )\n",
        "3. define a loss and optimizer\n",
        "4. build a training loop"
      ],
      "metadata": {
        "id": "kGekumSfL7ju"
      }
    },
    {
      "cell_type": "code",
      "source": [
        "import torch\n",
        "from torch import nn\n",
        "device = \"cuda\" if torch.cuda.is_available() else \"cpu\"\n",
        "device"
      ],
      "metadata": {
        "id": "i29AGacabKTu",
        "colab": {
          "base_uri": "https://localhost:8080/",
          "height": 35
        },
        "outputId": "8b336be2-5698-4322-b8d4-e6391f3f99ca"
      },
      "execution_count": 220,
      "outputs": [
        {
          "output_type": "execute_result",
          "data": {
            "text/plain": [
              "'cpu'"
            ],
            "application/vnd.google.colaboratory.intrinsic+json": {
              "type": "string"
            }
          },
          "metadata": {},
          "execution_count": 220
        }
      ]
    },
    {
      "cell_type": "markdown",
      "source": [
        "Once we have set device agnostic code we can craete a model\n",
        "\n",
        "to do\n",
        "1. Subclass `nn.Module`\n",
        "2. Create 2 `nn.Linear()` layers that are capable of handling the shapes of our data\n",
        "3. Define `forward()` this outlines the forward pass ( forward computation ) of the model\n",
        "4. Instantiate and instance of our model and send it to a target device"
      ],
      "metadata": {
        "id": "CdZBGeV4N8nQ"
      }
    },
    {
      "cell_type": "code",
      "source": [
        "# Construct a model that subclasses nn.Module\n",
        "class CircleModelV0(nn.Module):\n",
        "  def __init__(self):\n",
        "    super().__init__()\n",
        "    # define two layers that can handle our data\n",
        "    self.layer_1 = nn.Linear(in_features=2, out_features=5)\n",
        "    self.layer_2 = nn.Linear(in_features=5, out_features=1)\n",
        "    self.relu = nn.ReLU()\n",
        "    self.sigmoid = nn.Sigmoid()\n",
        "\n",
        "  def forward(self, x:torch.Tensor)-> torch.Tensor:\n",
        "    return self.layer_2(self.layer_1(x)) # x -> layer_1 -> layer_2 -> output\n",
        "\n",
        "# Instantiate an instance of the class\n",
        "model_0 = CircleModelV0().to(device=device)\n",
        "model_0"
      ],
      "metadata": {
        "colab": {
          "base_uri": "https://localhost:8080/"
        },
        "id": "ee-AwhlaMrcF",
        "outputId": "e4a653f1-a520-425c-dc45-ef9c867f31c9"
      },
      "execution_count": 221,
      "outputs": [
        {
          "output_type": "execute_result",
          "data": {
            "text/plain": [
              "CircleModelV0(\n",
              "  (layer_1): Linear(in_features=2, out_features=5, bias=True)\n",
              "  (layer_2): Linear(in_features=5, out_features=1, bias=True)\n",
              "  (relu): ReLU()\n",
              "  (sigmoid): Sigmoid()\n",
              ")"
            ]
          },
          "metadata": {},
          "execution_count": 221
        }
      ]
    },
    {
      "cell_type": "code",
      "source": [
        "next(model_0.parameters()).device"
      ],
      "metadata": {
        "colab": {
          "base_uri": "https://localhost:8080/"
        },
        "id": "8P2asZIJNVQ4",
        "outputId": "496f84eb-6588-4857-a779-736e94b0e005"
      },
      "execution_count": 222,
      "outputs": [
        {
          "output_type": "execute_result",
          "data": {
            "text/plain": [
              "device(type='cpu')"
            ]
          },
          "metadata": {},
          "execution_count": 222
        }
      ]
    },
    {
      "cell_type": "markdown",
      "source": [
        "Lets replicate the model above using nn.Sequential"
      ],
      "metadata": {
        "id": "JOdIEhkvZv1H"
      }
    },
    {
      "cell_type": "code",
      "source": [
        "model_0 = nn.Sequential(\n",
        "    nn.Linear(in_features=2, out_features=5),\n",
        "    nn.Linear(in_features=5, out_features=1),\n",
        ").to(device=device)\n",
        "\n",
        "model_0"
      ],
      "metadata": {
        "colab": {
          "base_uri": "https://localhost:8080/"
        },
        "id": "EoZ-hio6TNku",
        "outputId": "a6aa4f04-77b9-442c-8415-1674d5cd9370"
      },
      "execution_count": 223,
      "outputs": [
        {
          "output_type": "execute_result",
          "data": {
            "text/plain": [
              "Sequential(\n",
              "  (0): Linear(in_features=2, out_features=5, bias=True)\n",
              "  (1): Linear(in_features=5, out_features=1, bias=True)\n",
              ")"
            ]
          },
          "metadata": {},
          "execution_count": 223
        }
      ]
    },
    {
      "cell_type": "code",
      "source": [
        "model_0.state_dict()"
      ],
      "metadata": {
        "colab": {
          "base_uri": "https://localhost:8080/"
        },
        "id": "NkPvwp1AaUeq",
        "outputId": "a93abbfb-780a-4f2b-ddc9-22815cdc99a6"
      },
      "execution_count": 224,
      "outputs": [
        {
          "output_type": "execute_result",
          "data": {
            "text/plain": [
              "OrderedDict([('0.weight',\n",
              "              tensor([[ 0.3625, -0.4474],\n",
              "                      [-0.5670, -0.4832],\n",
              "                      [-0.6978, -0.5456],\n",
              "                      [-0.1749,  0.4772],\n",
              "                      [ 0.1184, -0.5378]])),\n",
              "             ('0.bias', tensor([-0.5673,  0.3518, -0.5260, -0.0871,  0.3392])),\n",
              "             ('1.weight',\n",
              "              tensor([[-0.2070, -0.0488, -0.0389, -0.1058, -0.2268]])),\n",
              "             ('1.bias', tensor([-0.3987]))])"
            ]
          },
          "metadata": {},
          "execution_count": 224
        }
      ]
    },
    {
      "cell_type": "code",
      "source": [
        "device"
      ],
      "metadata": {
        "colab": {
          "base_uri": "https://localhost:8080/",
          "height": 35
        },
        "id": "xGCVDZXqfPY5",
        "outputId": "d064ede3-de02-45c1-917d-25ac5186d9c6"
      },
      "execution_count": 225,
      "outputs": [
        {
          "output_type": "execute_result",
          "data": {
            "text/plain": [
              "'cpu'"
            ],
            "application/vnd.google.colaboratory.intrinsic+json": {
              "type": "string"
            }
          },
          "metadata": {},
          "execution_count": 225
        }
      ]
    },
    {
      "cell_type": "code",
      "source": [
        "# make some predictions (model is untrained at the moment)\n",
        "print(device)\n",
        "with torch.inference_mode():\n",
        "  untrained_preds = model_0(X_test.to(device))\n",
        "\n",
        "print(f\"Length of predictons {len(untrained_preds)} shape of predictions {untrained_preds.shape}\")\n",
        "print(f\"Length test samples {len(X_test)} shape of predictions {X_test.shape}\")\n",
        "print(f\"\\nFirst 10 predictions {torch.round(untrained_preds[:10])}\")\n",
        "print(f\"\\nFirst 10 labels {y[:10]}\")"
      ],
      "metadata": {
        "colab": {
          "base_uri": "https://localhost:8080/"
        },
        "id": "N475HaPZbsOp",
        "outputId": "0165daf8-092e-4947-b219-07d864596ff7"
      },
      "execution_count": 226,
      "outputs": [
        {
          "output_type": "stream",
          "name": "stdout",
          "text": [
            "cpu\n",
            "Length of predictons 200 shape of predictions torch.Size([200, 1])\n",
            "Length test samples 200 shape of predictions torch.Size([200, 2])\n",
            "\n",
            "First 10 predictions tensor([[-0.],\n",
            "        [-0.],\n",
            "        [-0.],\n",
            "        [-0.],\n",
            "        [-1.],\n",
            "        [-0.],\n",
            "        [-0.],\n",
            "        [-0.],\n",
            "        [-0.],\n",
            "        [-0.]])\n",
            "\n",
            "First 10 labels tensor([1., 1., 1., 1., 0., 1., 1., 1., 1., 0.])\n"
          ]
        }
      ]
    },
    {
      "cell_type": "code",
      "source": [
        "# set up loss function and optimizer\n",
        "loss_fn = nn.BCEWithLogitsLoss()\n",
        "optimizer = torch.optim.SGD(params=model_0.parameters(), lr=0.1)"
      ],
      "metadata": {
        "id": "nKbf8TnFdzm1"
      },
      "execution_count": 227,
      "outputs": []
    },
    {
      "cell_type": "code",
      "source": [
        "# Calculate accuracy out of 100 examples what percentage does the model get right\n",
        "def accuracy_fn(y_true, y_pred):\n",
        "  correct = torch.eq(y_true, y_pred).sum().item()\n",
        "  acc = (correct/len(y_pred))*100\n",
        "  return acc"
      ],
      "metadata": {
        "id": "w6vcOk1jjIB6"
      },
      "execution_count": 228,
      "outputs": []
    },
    {
      "cell_type": "markdown",
      "source": [
        "## Train the model\n",
        "\n",
        "to train the model these are the following steps\n",
        "\n",
        "1. Forward pass\n",
        "2. Calculate the loss\n",
        "3. Optimizer zero grad\n",
        "4. Loss Backwards\n",
        "5. Optimizer step"
      ],
      "metadata": {
        "id": "Bt6c4euUupAl"
      }
    },
    {
      "cell_type": "markdown",
      "source": [
        "### Going from raw logits -> prediction probabilities -> prediction labels\n",
        "\n",
        "the model outputs are going to be raw **logits**.\n",
        "\n",
        "we can convert the these **logits** into **predictions probabilities** by passing them into some kind of activation function (e.g sigmoid for binary crossentropy and softmax for multiclass classification )\n",
        "\n",
        "then we can comvert our model prediction probabilities to **prediction labels** by either rounding them or taking the `argmax()`"
      ],
      "metadata": {
        "id": "T6wE8D1tvchw"
      }
    },
    {
      "cell_type": "code",
      "source": [
        "# make a prediction\n",
        "model_0.eval()\n",
        "with torch.inference_mode():\n",
        "  y_logits = model_0(X_test.to(device))\n",
        "\n",
        "# print first 5 predictions\n",
        "y_logits[:5]"
      ],
      "metadata": {
        "colab": {
          "base_uri": "https://localhost:8080/"
        },
        "id": "N0lYEADHvxJE",
        "outputId": "5b006598-a4e1-4047-bb1f-63303847bdba"
      },
      "execution_count": 229,
      "outputs": [
        {
          "output_type": "execute_result",
          "data": {
            "text/plain": [
              "tensor([[-0.1923],\n",
              "        [-0.1455],\n",
              "        [-0.3913],\n",
              "        [-0.1356],\n",
              "        [-0.5125]])"
            ]
          },
          "metadata": {},
          "execution_count": 229
        }
      ]
    },
    {
      "cell_type": "code",
      "source": [
        "# Use the sigmoid activation function on the model logits to turn them into predictions probabilities\n",
        "y_preds_probs = torch.sigmoid(y_logits)\n",
        "y_preds_probs[:5]"
      ],
      "metadata": {
        "colab": {
          "base_uri": "https://localhost:8080/"
        },
        "id": "3Ex-zGpKvzWK",
        "outputId": "81b55c85-16de-476a-9079-36ce3baf3ce2"
      },
      "execution_count": 230,
      "outputs": [
        {
          "output_type": "execute_result",
          "data": {
            "text/plain": [
              "tensor([[0.4521],\n",
              "        [0.4637],\n",
              "        [0.4034],\n",
              "        [0.4661],\n",
              "        [0.3746]])"
            ]
          },
          "metadata": {},
          "execution_count": 230
        }
      ]
    },
    {
      "cell_type": "code",
      "source": [
        "torch.round(y_preds_probs)[:5]"
      ],
      "metadata": {
        "colab": {
          "base_uri": "https://localhost:8080/"
        },
        "id": "yjV19FBg1I-p",
        "outputId": "4f5812a4-fc89-4bad-8031-6dc20a38bd67"
      },
      "execution_count": 231,
      "outputs": [
        {
          "output_type": "execute_result",
          "data": {
            "text/plain": [
              "tensor([[0.],\n",
              "        [0.],\n",
              "        [0.],\n",
              "        [0.],\n",
              "        [0.]])"
            ]
          },
          "metadata": {},
          "execution_count": 231
        }
      ]
    },
    {
      "cell_type": "code",
      "source": [
        "# Find the predicted labels\n",
        "y_preds = torch.round(y_preds_probs)\n",
        "# In full (logts->pred probs->pred labels)\n",
        "y_pred_labels = torch.round(torch.sigmoid(model_0(X_test.to(device))))\n",
        "# Check for equality\n",
        "print(torch.eq(y_preds.squeeze(), y_pred_labels.squeeze()))\n",
        "# Get rid of extra dimention\n",
        "y_preds.squeeze()"
      ],
      "metadata": {
        "colab": {
          "base_uri": "https://localhost:8080/"
        },
        "id": "igXsGpdk1bh2",
        "outputId": "6a9da3a9-6545-4173-aea8-fd638659acb3"
      },
      "execution_count": 232,
      "outputs": [
        {
          "output_type": "stream",
          "name": "stdout",
          "text": [
            "tensor([True, True, True, True, True, True, True, True, True, True, True, True,\n",
            "        True, True, True, True, True, True, True, True, True, True, True, True,\n",
            "        True, True, True, True, True, True, True, True, True, True, True, True,\n",
            "        True, True, True, True, True, True, True, True, True, True, True, True,\n",
            "        True, True, True, True, True, True, True, True, True, True, True, True,\n",
            "        True, True, True, True, True, True, True, True, True, True, True, True,\n",
            "        True, True, True, True, True, True, True, True, True, True, True, True,\n",
            "        True, True, True, True, True, True, True, True, True, True, True, True,\n",
            "        True, True, True, True, True, True, True, True, True, True, True, True,\n",
            "        True, True, True, True, True, True, True, True, True, True, True, True,\n",
            "        True, True, True, True, True, True, True, True, True, True, True, True,\n",
            "        True, True, True, True, True, True, True, True, True, True, True, True,\n",
            "        True, True, True, True, True, True, True, True, True, True, True, True,\n",
            "        True, True, True, True, True, True, True, True, True, True, True, True,\n",
            "        True, True, True, True, True, True, True, True, True, True, True, True,\n",
            "        True, True, True, True, True, True, True, True, True, True, True, True,\n",
            "        True, True, True, True, True, True, True, True])\n"
          ]
        },
        {
          "output_type": "execute_result",
          "data": {
            "text/plain": [
              "tensor([0., 0., 0., 0., 0., 0., 0., 0., 0., 0., 0., 0., 0., 0., 0., 0., 0., 0., 0., 0., 0., 0., 0., 0.,\n",
              "        0., 0., 0., 0., 0., 0., 0., 0., 0., 0., 0., 0., 0., 0., 0., 0., 0., 0., 0., 0., 0., 0., 0., 0.,\n",
              "        0., 0., 0., 0., 0., 0., 0., 0., 0., 0., 0., 0., 0., 0., 0., 0., 0., 0., 0., 0., 0., 0., 0., 0.,\n",
              "        0., 0., 0., 0., 0., 0., 0., 0., 0., 0., 0., 0., 0., 0., 0., 0., 0., 0., 0., 0., 0., 0., 0., 0.,\n",
              "        0., 0., 0., 0., 0., 0., 0., 0., 0., 0., 0., 0., 0., 0., 0., 0., 0., 0., 0., 0., 0., 0., 0., 0.,\n",
              "        0., 0., 0., 0., 0., 0., 0., 0., 0., 0., 0., 0., 0., 0., 0., 0., 0., 0., 0., 0., 0., 0., 0., 0.,\n",
              "        0., 0., 0., 0., 0., 0., 0., 0., 0., 0., 0., 0., 0., 0., 0., 0., 0., 0., 0., 0., 0., 0., 0., 0.,\n",
              "        0., 0., 0., 0., 0., 0., 0., 0., 0., 0., 0., 0., 0., 0., 0., 0., 0., 0., 0., 0., 0., 0., 0., 0.,\n",
              "        0., 0., 0., 0., 0., 0., 0., 0.])"
            ]
          },
          "metadata": {},
          "execution_count": 232
        }
      ]
    },
    {
      "cell_type": "markdown",
      "source": [
        "## Build the trainig loop"
      ],
      "metadata": {
        "id": "YZblvHQ_6USB"
      }
    },
    {
      "cell_type": "code",
      "source": [
        "# create seeds for reproduceability\n",
        "MANUAL_SEED = 42\n",
        "torch.manual_seed(MANUAL_SEED)\n",
        "torch.cuda.manual_seed(MANUAL_SEED)\n",
        "epoch = 1000\n",
        "# put the data on the gpu\n",
        "X_train, y_train = X_train.to(device), y_train.to(device)\n",
        "X_test, y_test = X_test.to(device), y_labels.to(device)\n",
        "\n",
        "for epoch in range(epoch):\n",
        "  #training\n",
        "  model_0.train()\n",
        "  #forward pass\n",
        "  y_logits = model_0(X_train).squeeze()\n",
        "  y_preds = torch.round(torch.sigmoid(y_logits)) #turn logits -> pred probs -> pred labels\n",
        "  # Calculate loss/accuracy\n",
        "  loss = loss_fn(y_logits, y_train) # nn.\n",
        "  acc = accuracy_fn(y_true=y_train, y_pred=y_preds)\n",
        "  # optimizer zero grad\n",
        "  optimizer.zero_grad()\n",
        "  # loss backwards\n",
        "  loss.backward()\n",
        "  #optimizer step\n",
        "\n",
        "  ## Testing\n",
        "  model_0.eval()\n",
        "  with torch.inference_mode():\n",
        "    test_logits = model_0(X_test).squeeze()\n",
        "    test_pred = torch.round(torch.sigmoid(test_logits))\n",
        "    # Calculate test loss\n",
        "    test_loss = loss_fn(test_logits, y_test)\n",
        "    test_acc = accuracy_fn(y_true=y_test, y_pred=test_pred)\n",
        "\n",
        "  # Print out\n",
        "  if epoch % 10 == 0:\n",
        "    print(f\"Epoch:{epoch} | Loss:{loss:.5f} | Acc:{acc:.2f}% | Test loss:{test_loss:.5f}, Test acc:{test_acc:2f}%\")\n"
      ],
      "metadata": {
        "colab": {
          "base_uri": "https://localhost:8080/"
        },
        "id": "7pzQNRHv6WuQ",
        "outputId": "ed533191-d2ff-4d61-847d-98f5ac72c41f"
      },
      "execution_count": 233,
      "outputs": [
        {
          "output_type": "stream",
          "name": "stdout",
          "text": [
            "Epoch:0 | Loss:0.70948 | Acc:50.00% | Test loss:0.71317, Test acc:50.000000%\n",
            "Epoch:10 | Loss:0.70948 | Acc:50.00% | Test loss:0.71317, Test acc:50.000000%\n",
            "Epoch:20 | Loss:0.70948 | Acc:50.00% | Test loss:0.71317, Test acc:50.000000%\n",
            "Epoch:30 | Loss:0.70948 | Acc:50.00% | Test loss:0.71317, Test acc:50.000000%\n",
            "Epoch:40 | Loss:0.70948 | Acc:50.00% | Test loss:0.71317, Test acc:50.000000%\n",
            "Epoch:50 | Loss:0.70948 | Acc:50.00% | Test loss:0.71317, Test acc:50.000000%\n",
            "Epoch:60 | Loss:0.70948 | Acc:50.00% | Test loss:0.71317, Test acc:50.000000%\n",
            "Epoch:70 | Loss:0.70948 | Acc:50.00% | Test loss:0.71317, Test acc:50.000000%\n",
            "Epoch:80 | Loss:0.70948 | Acc:50.00% | Test loss:0.71317, Test acc:50.000000%\n",
            "Epoch:90 | Loss:0.70948 | Acc:50.00% | Test loss:0.71317, Test acc:50.000000%\n",
            "Epoch:100 | Loss:0.70948 | Acc:50.00% | Test loss:0.71317, Test acc:50.000000%\n",
            "Epoch:110 | Loss:0.70948 | Acc:50.00% | Test loss:0.71317, Test acc:50.000000%\n",
            "Epoch:120 | Loss:0.70948 | Acc:50.00% | Test loss:0.71317, Test acc:50.000000%\n",
            "Epoch:130 | Loss:0.70948 | Acc:50.00% | Test loss:0.71317, Test acc:50.000000%\n",
            "Epoch:140 | Loss:0.70948 | Acc:50.00% | Test loss:0.71317, Test acc:50.000000%\n",
            "Epoch:150 | Loss:0.70948 | Acc:50.00% | Test loss:0.71317, Test acc:50.000000%\n",
            "Epoch:160 | Loss:0.70948 | Acc:50.00% | Test loss:0.71317, Test acc:50.000000%\n",
            "Epoch:170 | Loss:0.70948 | Acc:50.00% | Test loss:0.71317, Test acc:50.000000%\n",
            "Epoch:180 | Loss:0.70948 | Acc:50.00% | Test loss:0.71317, Test acc:50.000000%\n",
            "Epoch:190 | Loss:0.70948 | Acc:50.00% | Test loss:0.71317, Test acc:50.000000%\n",
            "Epoch:200 | Loss:0.70948 | Acc:50.00% | Test loss:0.71317, Test acc:50.000000%\n",
            "Epoch:210 | Loss:0.70948 | Acc:50.00% | Test loss:0.71317, Test acc:50.000000%\n",
            "Epoch:220 | Loss:0.70948 | Acc:50.00% | Test loss:0.71317, Test acc:50.000000%\n",
            "Epoch:230 | Loss:0.70948 | Acc:50.00% | Test loss:0.71317, Test acc:50.000000%\n",
            "Epoch:240 | Loss:0.70948 | Acc:50.00% | Test loss:0.71317, Test acc:50.000000%\n",
            "Epoch:250 | Loss:0.70948 | Acc:50.00% | Test loss:0.71317, Test acc:50.000000%\n",
            "Epoch:260 | Loss:0.70948 | Acc:50.00% | Test loss:0.71317, Test acc:50.000000%\n",
            "Epoch:270 | Loss:0.70948 | Acc:50.00% | Test loss:0.71317, Test acc:50.000000%\n",
            "Epoch:280 | Loss:0.70948 | Acc:50.00% | Test loss:0.71317, Test acc:50.000000%\n",
            "Epoch:290 | Loss:0.70948 | Acc:50.00% | Test loss:0.71317, Test acc:50.000000%\n",
            "Epoch:300 | Loss:0.70948 | Acc:50.00% | Test loss:0.71317, Test acc:50.000000%\n",
            "Epoch:310 | Loss:0.70948 | Acc:50.00% | Test loss:0.71317, Test acc:50.000000%\n",
            "Epoch:320 | Loss:0.70948 | Acc:50.00% | Test loss:0.71317, Test acc:50.000000%\n",
            "Epoch:330 | Loss:0.70948 | Acc:50.00% | Test loss:0.71317, Test acc:50.000000%\n",
            "Epoch:340 | Loss:0.70948 | Acc:50.00% | Test loss:0.71317, Test acc:50.000000%\n",
            "Epoch:350 | Loss:0.70948 | Acc:50.00% | Test loss:0.71317, Test acc:50.000000%\n",
            "Epoch:360 | Loss:0.70948 | Acc:50.00% | Test loss:0.71317, Test acc:50.000000%\n",
            "Epoch:370 | Loss:0.70948 | Acc:50.00% | Test loss:0.71317, Test acc:50.000000%\n",
            "Epoch:380 | Loss:0.70948 | Acc:50.00% | Test loss:0.71317, Test acc:50.000000%\n",
            "Epoch:390 | Loss:0.70948 | Acc:50.00% | Test loss:0.71317, Test acc:50.000000%\n",
            "Epoch:400 | Loss:0.70948 | Acc:50.00% | Test loss:0.71317, Test acc:50.000000%\n",
            "Epoch:410 | Loss:0.70948 | Acc:50.00% | Test loss:0.71317, Test acc:50.000000%\n",
            "Epoch:420 | Loss:0.70948 | Acc:50.00% | Test loss:0.71317, Test acc:50.000000%\n",
            "Epoch:430 | Loss:0.70948 | Acc:50.00% | Test loss:0.71317, Test acc:50.000000%\n",
            "Epoch:440 | Loss:0.70948 | Acc:50.00% | Test loss:0.71317, Test acc:50.000000%\n",
            "Epoch:450 | Loss:0.70948 | Acc:50.00% | Test loss:0.71317, Test acc:50.000000%\n",
            "Epoch:460 | Loss:0.70948 | Acc:50.00% | Test loss:0.71317, Test acc:50.000000%\n",
            "Epoch:470 | Loss:0.70948 | Acc:50.00% | Test loss:0.71317, Test acc:50.000000%\n",
            "Epoch:480 | Loss:0.70948 | Acc:50.00% | Test loss:0.71317, Test acc:50.000000%\n",
            "Epoch:490 | Loss:0.70948 | Acc:50.00% | Test loss:0.71317, Test acc:50.000000%\n",
            "Epoch:500 | Loss:0.70948 | Acc:50.00% | Test loss:0.71317, Test acc:50.000000%\n",
            "Epoch:510 | Loss:0.70948 | Acc:50.00% | Test loss:0.71317, Test acc:50.000000%\n",
            "Epoch:520 | Loss:0.70948 | Acc:50.00% | Test loss:0.71317, Test acc:50.000000%\n",
            "Epoch:530 | Loss:0.70948 | Acc:50.00% | Test loss:0.71317, Test acc:50.000000%\n",
            "Epoch:540 | Loss:0.70948 | Acc:50.00% | Test loss:0.71317, Test acc:50.000000%\n",
            "Epoch:550 | Loss:0.70948 | Acc:50.00% | Test loss:0.71317, Test acc:50.000000%\n",
            "Epoch:560 | Loss:0.70948 | Acc:50.00% | Test loss:0.71317, Test acc:50.000000%\n",
            "Epoch:570 | Loss:0.70948 | Acc:50.00% | Test loss:0.71317, Test acc:50.000000%\n",
            "Epoch:580 | Loss:0.70948 | Acc:50.00% | Test loss:0.71317, Test acc:50.000000%\n",
            "Epoch:590 | Loss:0.70948 | Acc:50.00% | Test loss:0.71317, Test acc:50.000000%\n",
            "Epoch:600 | Loss:0.70948 | Acc:50.00% | Test loss:0.71317, Test acc:50.000000%\n",
            "Epoch:610 | Loss:0.70948 | Acc:50.00% | Test loss:0.71317, Test acc:50.000000%\n",
            "Epoch:620 | Loss:0.70948 | Acc:50.00% | Test loss:0.71317, Test acc:50.000000%\n",
            "Epoch:630 | Loss:0.70948 | Acc:50.00% | Test loss:0.71317, Test acc:50.000000%\n",
            "Epoch:640 | Loss:0.70948 | Acc:50.00% | Test loss:0.71317, Test acc:50.000000%\n",
            "Epoch:650 | Loss:0.70948 | Acc:50.00% | Test loss:0.71317, Test acc:50.000000%\n",
            "Epoch:660 | Loss:0.70948 | Acc:50.00% | Test loss:0.71317, Test acc:50.000000%\n",
            "Epoch:670 | Loss:0.70948 | Acc:50.00% | Test loss:0.71317, Test acc:50.000000%\n",
            "Epoch:680 | Loss:0.70948 | Acc:50.00% | Test loss:0.71317, Test acc:50.000000%\n",
            "Epoch:690 | Loss:0.70948 | Acc:50.00% | Test loss:0.71317, Test acc:50.000000%\n",
            "Epoch:700 | Loss:0.70948 | Acc:50.00% | Test loss:0.71317, Test acc:50.000000%\n",
            "Epoch:710 | Loss:0.70948 | Acc:50.00% | Test loss:0.71317, Test acc:50.000000%\n",
            "Epoch:720 | Loss:0.70948 | Acc:50.00% | Test loss:0.71317, Test acc:50.000000%\n",
            "Epoch:730 | Loss:0.70948 | Acc:50.00% | Test loss:0.71317, Test acc:50.000000%\n",
            "Epoch:740 | Loss:0.70948 | Acc:50.00% | Test loss:0.71317, Test acc:50.000000%\n",
            "Epoch:750 | Loss:0.70948 | Acc:50.00% | Test loss:0.71317, Test acc:50.000000%\n",
            "Epoch:760 | Loss:0.70948 | Acc:50.00% | Test loss:0.71317, Test acc:50.000000%\n",
            "Epoch:770 | Loss:0.70948 | Acc:50.00% | Test loss:0.71317, Test acc:50.000000%\n",
            "Epoch:780 | Loss:0.70948 | Acc:50.00% | Test loss:0.71317, Test acc:50.000000%\n",
            "Epoch:790 | Loss:0.70948 | Acc:50.00% | Test loss:0.71317, Test acc:50.000000%\n",
            "Epoch:800 | Loss:0.70948 | Acc:50.00% | Test loss:0.71317, Test acc:50.000000%\n",
            "Epoch:810 | Loss:0.70948 | Acc:50.00% | Test loss:0.71317, Test acc:50.000000%\n",
            "Epoch:820 | Loss:0.70948 | Acc:50.00% | Test loss:0.71317, Test acc:50.000000%\n",
            "Epoch:830 | Loss:0.70948 | Acc:50.00% | Test loss:0.71317, Test acc:50.000000%\n",
            "Epoch:840 | Loss:0.70948 | Acc:50.00% | Test loss:0.71317, Test acc:50.000000%\n",
            "Epoch:850 | Loss:0.70948 | Acc:50.00% | Test loss:0.71317, Test acc:50.000000%\n",
            "Epoch:860 | Loss:0.70948 | Acc:50.00% | Test loss:0.71317, Test acc:50.000000%\n",
            "Epoch:870 | Loss:0.70948 | Acc:50.00% | Test loss:0.71317, Test acc:50.000000%\n",
            "Epoch:880 | Loss:0.70948 | Acc:50.00% | Test loss:0.71317, Test acc:50.000000%\n",
            "Epoch:890 | Loss:0.70948 | Acc:50.00% | Test loss:0.71317, Test acc:50.000000%\n",
            "Epoch:900 | Loss:0.70948 | Acc:50.00% | Test loss:0.71317, Test acc:50.000000%\n",
            "Epoch:910 | Loss:0.70948 | Acc:50.00% | Test loss:0.71317, Test acc:50.000000%\n",
            "Epoch:920 | Loss:0.70948 | Acc:50.00% | Test loss:0.71317, Test acc:50.000000%\n",
            "Epoch:930 | Loss:0.70948 | Acc:50.00% | Test loss:0.71317, Test acc:50.000000%\n",
            "Epoch:940 | Loss:0.70948 | Acc:50.00% | Test loss:0.71317, Test acc:50.000000%\n",
            "Epoch:950 | Loss:0.70948 | Acc:50.00% | Test loss:0.71317, Test acc:50.000000%\n",
            "Epoch:960 | Loss:0.70948 | Acc:50.00% | Test loss:0.71317, Test acc:50.000000%\n",
            "Epoch:970 | Loss:0.70948 | Acc:50.00% | Test loss:0.71317, Test acc:50.000000%\n",
            "Epoch:980 | Loss:0.70948 | Acc:50.00% | Test loss:0.71317, Test acc:50.000000%\n",
            "Epoch:990 | Loss:0.70948 | Acc:50.00% | Test loss:0.71317, Test acc:50.000000%\n"
          ]
        }
      ]
    },
    {
      "cell_type": "code",
      "source": [
        "device"
      ],
      "metadata": {
        "colab": {
          "base_uri": "https://localhost:8080/",
          "height": 35
        },
        "id": "SlEQ8IhS6vOX",
        "outputId": "b4b4c7df-a2d4-4b5b-de21-315e7e6dfe8c"
      },
      "execution_count": 234,
      "outputs": [
        {
          "output_type": "execute_result",
          "data": {
            "text/plain": [
              "'cpu'"
            ],
            "application/vnd.google.colaboratory.intrinsic+json": {
              "type": "string"
            }
          },
          "metadata": {},
          "execution_count": 234
        }
      ]
    },
    {
      "cell_type": "markdown",
      "source": [
        "##  Make predictions and evaluate the model\n",
        "\n",
        "From the matrix above it looks like the model is not learning anything\n",
        "\n",
        "to inspect visualise the data\n",
        "\n",
        "helper function -- https://github.com/mrdbourke/pytorch-deep-learning/blob/main/helper_functions.py"
      ],
      "metadata": {
        "id": "F28XfQfP-5mf"
      }
    },
    {
      "cell_type": "code",
      "source": [
        "import requests\n",
        "from pathlib import Path\n",
        "\n",
        "FUNCTION_URL = \"https://raw.githubusercontent.com/mrdbourke/pytorch-deep-learning/refs/heads/main/helper_functions.py\"\n",
        "\n",
        "# Download helper function from repo\n",
        "if Path(\"helper_function.py\").is_file():\n",
        "  print(\"helper function already exists - skipped download\")\n",
        "else:\n",
        "  request = requests.get(FUNCTION_URL)\n",
        "  with open(\"helper_function.py\", \"wb\") as f:\n",
        "    f.write(request.content)\n",
        "\n",
        "from helper_function import plot_predictions, plot_decision_boundary"
      ],
      "metadata": {
        "id": "jxBdodUp_Io2",
        "outputId": "1d6444cf-52b3-43bc-e1a1-3471ae409c9b",
        "colab": {
          "base_uri": "https://localhost:8080/"
        }
      },
      "execution_count": 235,
      "outputs": [
        {
          "output_type": "stream",
          "name": "stdout",
          "text": [
            "helper function already exists - skipped download\n"
          ]
        }
      ]
    },
    {
      "cell_type": "code",
      "source": [
        "# Plot decision boundary the model\n",
        "plt.figure(figsize=(12,6))\n",
        "plt.subplot(1,2,1)\n",
        "plt.title(\"Train\")\n",
        "plot_decision_boundary(model_0, X_train, y_train)\n",
        "plt.subplot(1,2,2)\n",
        "plt.title(\"Test\")\n",
        "plot_decision_boundary(model_0, X_test, y_labels)"
      ],
      "metadata": {
        "id": "BgaaE7vL_NZo",
        "outputId": "dd8877b0-a835-495c-ff90-31a039a8efdf",
        "colab": {
          "base_uri": "https://localhost:8080/",
          "height": 545
        }
      },
      "execution_count": 236,
      "outputs": [
        {
          "output_type": "display_data",
          "data": {
            "text/plain": [
              "<Figure size 1200x600 with 2 Axes>"
            ],
            "image/png": "[encoded data removed]"
          },
          "metadata": {}
        }
      ]
    },
    {
      "cell_type": "markdown",
      "source": [
        "## Improving the model\n",
        "\n",
        "- Add more layers\n",
        "- Add more hidden units\n",
        "- Fit for longer\n",
        "- Changing activation functions\n",
        "- Change the learning rate\n",
        "- Change the loss function"
      ],
      "metadata": {
        "id": "exfTSsSgMoQa"
      }
    },
    {
      "cell_type": "code",
      "source": [
        "# Create new model with improvements\n",
        "class CircleModelV1(nn.Module):\n",
        "  def __init__(self):\n",
        "    super().__init__()\n",
        "    # create the model layers\n",
        "    self.layer_1 = nn.Linear(in_features=2, out_features=10)\n",
        "    self.layer_2 = nn.Linear(in_features=10, out_features=10)\n",
        "    self.layer_3 = nn.Linear(in_features=10, out_features=1)\n",
        "\n",
        "  def forward(self, x:torch.Tensor)->torch.Tensor:\n",
        "    return self.layer_3(self.layer_2(self.layer_1(x)))\n",
        "\n",
        "model_1 = CircleModelV1().to(device)\n",
        "model_1"
      ],
      "metadata": {
        "id": "PqCbHfFVMj2f",
        "outputId": "21ccc661-7451-458b-ef82-be062fd9a685",
        "colab": {
          "base_uri": "https://localhost:8080/"
        }
      },
      "execution_count": 241,
      "outputs": [
        {
          "output_type": "execute_result",
          "data": {
            "text/plain": [
              "CircleModelV1(\n",
              "  (layer_1): Linear(in_features=2, out_features=10, bias=True)\n",
              "  (layer_2): Linear(in_features=10, out_features=10, bias=True)\n",
              "  (layer_3): Linear(in_features=10, out_features=1, bias=True)\n",
              ")"
            ]
          },
          "metadata": {},
          "execution_count": 241
        }
      ]
    },
    {
      "cell_type": "code",
      "source": [
        "X_train"
      ],
      "metadata": {
        "id": "KRGA1VRMc2pk",
        "outputId": "3369e6d4-ac46-4148-e48c-f7fa70b63c14",
        "colab": {
          "base_uri": "https://localhost:8080/"
        }
      },
      "execution_count": 242,
      "outputs": [
        {
          "output_type": "execute_result",
          "data": {
            "text/plain": [
              "tensor([[ 0.6579, -0.4651],\n",
              "        [ 0.6319, -0.7347],\n",
              "        [-1.0086, -0.1240],\n",
              "        ...,\n",
              "        [ 0.0157, -1.0300],\n",
              "        [ 1.0110,  0.1680],\n",
              "        [ 0.5578, -0.5709]])"
            ]
          },
          "metadata": {},
          "execution_count": 242
        }
      ]
    },
    {
      "cell_type": "code",
      "source": [
        "# Create a loss function\n",
        "loss_fn = nn.BCEWithLogitsLoss()\n",
        "# Create a optimizer\n",
        "optimizer = torch.optim.Adam(params=model_1.parameters(), lr=0.01)\n",
        "\n",
        "# Create a training and evaluation loop\n",
        "epoch = 100\n",
        "for epoch in range(epoch):\n",
        "  # train\n",
        "  model_1.train()\n",
        "  # forward pass\n",
        "  y_logits = model_1(X_train).squeeze()\n",
        "  y_preds = torch.round(torch.sigmoid(y_logits))\n",
        "  # calculate loss / acc\n",
        "  loss = loss_fn(y_logits, y_train)\n",
        "  acc = accuracy_fn(y_true=y_train, y_pred=y_preds)\n",
        "  # optimizer zero grad\n",
        "  optimizer.zero_grad()\n",
        "  # loss backwards\n",
        "  loss.backward()\n",
        "  # optimizer step\n",
        "  optimizer.step()\n",
        "\n",
        "  ## testing\n",
        "  # eval model mode\n",
        "  model_1.eval()\n",
        "  # inference\n",
        "  with torch.inference_mode():\n",
        "    test_logits = model_1(X_test).squeeze()\n",
        "    test_preds = torch.round(torch.sigmoid(test_logits))\n",
        "    # calculare the loss\n",
        "    test_loss = loss_fn(test_logits, y_test)\n",
        "    test_acc = accuracy_fn(y_true=y_test, y_pred=test_pred)\n",
        "\n",
        "# print output\n",
        "  if epoch % 10 == 0:\n",
        "    print(f\"Epoch:{epoch} | Loss:{loss:.5f} | Acc:{acc:.2f}% | Test loss:{test_loss:.5f}, Test acc:{test_acc:2f}%\")\n",
        "\n"
      ],
      "metadata": {
        "id": "5JjH3C6_MvIW",
        "colab": {
          "base_uri": "https://localhost:8080/"
        },
        "outputId": "d6fdd51b-fe0c-44e1-aa34-b82c5a61764a"
      },
      "execution_count": 244,
      "outputs": [
        {
          "output_type": "stream",
          "name": "stdout",
          "text": [
            "Epoch:0 | Loss:0.69379 | Acc:48.62% | Test loss:0.69284, Test acc:50.000000%\n",
            "Epoch:10 | Loss:0.69306 | Acc:50.50% | Test loss:0.69513, Test acc:50.000000%\n",
            "Epoch:20 | Loss:0.69301 | Acc:51.38% | Test loss:0.69408, Test acc:50.000000%\n",
            "Epoch:30 | Loss:0.69299 | Acc:51.00% | Test loss:0.69508, Test acc:50.000000%\n",
            "Epoch:40 | Loss:0.69298 | Acc:51.25% | Test loss:0.69451, Test acc:50.000000%\n",
            "Epoch:50 | Loss:0.69298 | Acc:51.50% | Test loss:0.69476, Test acc:50.000000%\n",
            "Epoch:60 | Loss:0.69298 | Acc:51.00% | Test loss:0.69462, Test acc:50.000000%\n",
            "Epoch:70 | Loss:0.69298 | Acc:51.25% | Test loss:0.69470, Test acc:50.000000%\n",
            "Epoch:80 | Loss:0.69298 | Acc:51.50% | Test loss:0.69467, Test acc:50.000000%\n",
            "Epoch:90 | Loss:0.69298 | Acc:51.25% | Test loss:0.69469, Test acc:50.000000%\n"
          ]
        }
      ]
    },
    {
      "cell_type": "code",
      "source": [],
      "metadata": {
        "id": "IKRcbgVuYIbz"
      },
      "execution_count": null,
      "outputs": []
    }
  ]
}