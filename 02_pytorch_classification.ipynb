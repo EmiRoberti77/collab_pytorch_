{
  "nbformat": 4,
  "nbformat_minor": 0,
  "metadata": {
    "colab": {
      "provenance": [],
      "gpuType": "T4",
      "include_colab_link": true
    },
    "kernelspec": {
      "name": "python3",
      "display_name": "Python 3"
    },
    "language_info": {
      "name": "python"
    },
    "accelerator": "GPU"
  },
  "cells": [
    {
      "cell_type": "markdown",
      "metadata": {
        "id": "view-in-github",
        "colab_type": "text"
      },
      "source": [
        "<a href=\"https://colab.research.google.com/github/EmiRoberti77/collab_pytorch_/blob/main/02_pytorch_classification.ipynb\" target=\"_parent\"><img src=\"https://colab.research.google.com/assets/colab-badge.svg\" alt=\"Open In Colab\"/></a>"
      ]
    },
    {
      "cell_type": "markdown",
      "source": [
        "# 02. Neural Network classification with PyTorch\n",
        "\n",
        "Classification is a problem of predicting something is one thing or an other. ( there can be multiple things as the options )"
      ],
      "metadata": {
        "id": "v8ygDaegw5ct"
      }
    },
    {
      "cell_type": "code",
      "execution_count": 167,
      "metadata": {
        "id": "SpvByaUYnA66"
      },
      "outputs": [],
      "source": [
        "## 1. Make classification data\n",
        "import sklearn"
      ]
    },
    {
      "cell_type": "code",
      "source": [
        "from sklearn.datasets import make_circles\n",
        "\n",
        "# make 1000 samples\n",
        "n_samples = 1000\n",
        "# create circles\n",
        "X,y = make_circles(n_samples, noise=0.03, random_state=42)\n",
        "len(X), len(y)"
      ],
      "metadata": {
        "colab": {
          "base_uri": "https://localhost:8080/"
        },
        "id": "9_a9tuLfxhqS",
        "outputId": "1341291b-f988-4e6e-9183-ddf53fd9e28f"
      },
      "execution_count": 168,
      "outputs": [
        {
          "output_type": "execute_result",
          "data": {
            "text/plain": [
              "(1000, 1000)"
            ]
          },
          "metadata": {},
          "execution_count": 168
        }
      ]
    },
    {
      "cell_type": "code",
      "source": [
        "#look at the first 5 of C\n",
        "print(f\"first 5 of X\\n{X[:5]}\")\n",
        "print(f\"first 5 of y\\n:{y[:5]}\")"
      ],
      "metadata": {
        "colab": {
          "base_uri": "https://localhost:8080/"
        },
        "id": "gIyjEzJbxow9",
        "outputId": "2b0ff3a5-d3d3-4595-8792-2c2ff7d6f15c"
      },
      "execution_count": 169,
      "outputs": [
        {
          "output_type": "stream",
          "name": "stdout",
          "text": [
            "first 5 of X\n",
            "[[ 0.75424625  0.23148074]\n",
            " [-0.75615888  0.15325888]\n",
            " [-0.81539193  0.17328203]\n",
            " [-0.39373073  0.69288277]\n",
            " [ 0.44220765 -0.89672343]]\n",
            "first 5 of y\n",
            ":[1 1 1 1 0]\n"
          ]
        }
      ]
    },
    {
      "cell_type": "code",
      "source": [
        "y"
      ],
      "metadata": {
        "colab": {
          "base_uri": "https://localhost:8080/"
        },
        "id": "enUncCpfyJ69",
        "outputId": "f542916c-ea4f-44a9-d01a-63f24af5638d"
      },
      "execution_count": 170,
      "outputs": [
        {
          "output_type": "execute_result",
          "data": {
            "text/plain": [
              "array([1, 1, 1, 1, 0, 1, 1, 1, 1, 0, 1, 0, 1, 1, 1, 1, 0, 1, 1, 0, 1, 0,\n",
              "       0, 1, 0, 0, 0, 1, 1, 1, 0, 0, 1, 0, 0, 0, 1, 1, 1, 0, 0, 0, 0, 1,\n",
              "       0, 0, 1, 1, 0, 1, 1, 1, 0, 1, 0, 0, 1, 0, 0, 1, 0, 0, 1, 0, 1, 1,\n",
              "       1, 1, 0, 1, 0, 0, 1, 1, 0, 0, 1, 0, 1, 0, 1, 0, 0, 0, 0, 1, 1, 1,\n",
              "       1, 0, 0, 0, 1, 0, 1, 0, 1, 0, 0, 1, 1, 0, 1, 0, 1, 1, 1, 1, 0, 1,\n",
              "       1, 1, 1, 1, 0, 0, 0, 1, 1, 0, 1, 0, 1, 0, 0, 1, 1, 0, 1, 1, 1, 1,\n",
              "       0, 1, 1, 0, 0, 0, 0, 0, 0, 0, 1, 0, 1, 1, 1, 0, 1, 0, 1, 0, 1, 0,\n",
              "       1, 0, 0, 1, 0, 1, 1, 1, 1, 1, 1, 1, 0, 1, 0, 0, 0, 0, 0, 1, 0, 0,\n",
              "       0, 0, 1, 1, 0, 1, 0, 1, 1, 0, 0, 0, 1, 1, 1, 1, 1, 0, 0, 0, 0, 0,\n",
              "       1, 0, 0, 1, 1, 1, 1, 1, 0, 1, 0, 1, 0, 0, 1, 1, 1, 0, 1, 0, 1, 1,\n",
              "       0, 1, 1, 0, 1, 0, 1, 0, 1, 1, 0, 1, 0, 1, 0, 0, 0, 1, 0, 0, 0, 0,\n",
              "       1, 1, 0, 0, 0, 0, 0, 0, 0, 1, 1, 1, 0, 0, 1, 1, 1, 0, 1, 0, 0, 0,\n",
              "       0, 1, 1, 0, 1, 0, 0, 0, 1, 0, 1, 0, 0, 1, 0, 1, 1, 1, 0, 0, 0, 1,\n",
              "       0, 0, 0, 1, 1, 1, 1, 0, 0, 0, 1, 0, 0, 0, 1, 0, 0, 0, 1, 1, 0, 1,\n",
              "       1, 1, 1, 1, 1, 1, 0, 0, 0, 0, 1, 0, 0, 0, 0, 1, 1, 1, 0, 0, 1, 0,\n",
              "       1, 0, 1, 1, 0, 0, 1, 1, 1, 1, 0, 0, 0, 0, 0, 0, 1, 1, 0, 1, 0, 0,\n",
              "       1, 0, 0, 0, 0, 0, 0, 0, 0, 1, 0, 0, 0, 0, 1, 0, 0, 1, 0, 1, 0, 0,\n",
              "       0, 1, 0, 0, 1, 1, 0, 0, 1, 0, 0, 1, 1, 0, 1, 1, 0, 0, 1, 0, 1, 0,\n",
              "       0, 0, 1, 1, 0, 0, 1, 1, 1, 1, 1, 0, 0, 1, 1, 1, 1, 0, 1, 1, 1, 1,\n",
              "       1, 0, 0, 1, 0, 1, 0, 0, 0, 0, 1, 0, 0, 0, 0, 0, 0, 0, 0, 0, 1, 1,\n",
              "       0, 1, 1, 1, 1, 1, 1, 0, 1, 1, 1, 1, 0, 0, 0, 1, 1, 1, 0, 0, 0, 0,\n",
              "       1, 1, 0, 0, 0, 0, 1, 0, 0, 0, 1, 0, 0, 1, 1, 1, 1, 1, 1, 0, 0, 0,\n",
              "       1, 0, 0, 0, 0, 0, 1, 1, 1, 0, 0, 0, 0, 0, 1, 1, 1, 0, 0, 1, 1, 1,\n",
              "       1, 0, 1, 1, 0, 1, 0, 0, 0, 1, 0, 0, 1, 0, 0, 1, 1, 0, 0, 1, 1, 0,\n",
              "       1, 0, 1, 0, 1, 0, 1, 0, 0, 0, 1, 0, 0, 0, 0, 0, 0, 1, 1, 1, 1, 0,\n",
              "       0, 0, 1, 0, 1, 1, 0, 0, 0, 0, 0, 1, 1, 1, 0, 0, 1, 0, 0, 1, 0, 0,\n",
              "       1, 0, 0, 1, 0, 0, 0, 1, 0, 0, 1, 1, 1, 0, 1, 1, 0, 0, 0, 1, 1, 1,\n",
              "       1, 0, 0, 1, 1, 1, 0, 0, 0, 0, 1, 1, 0, 0, 1, 1, 0, 0, 1, 1, 1, 1,\n",
              "       1, 1, 1, 0, 1, 0, 1, 0, 0, 1, 0, 1, 1, 1, 1, 0, 0, 1, 1, 0, 0, 1,\n",
              "       0, 1, 0, 0, 0, 1, 0, 0, 1, 1, 1, 1, 0, 1, 1, 1, 1, 1, 1, 1, 0, 1,\n",
              "       0, 1, 1, 1, 0, 0, 1, 0, 0, 0, 1, 1, 1, 1, 0, 0, 0, 0, 1, 0, 1, 1,\n",
              "       1, 0, 1, 0, 0, 1, 0, 0, 1, 1, 1, 1, 1, 0, 1, 0, 0, 0, 1, 1, 1, 1,\n",
              "       1, 0, 0, 0, 1, 1, 1, 1, 0, 0, 0, 0, 0, 1, 1, 0, 1, 0, 1, 0, 0, 0,\n",
              "       0, 0, 0, 0, 0, 0, 1, 1, 1, 1, 1, 0, 1, 0, 1, 1, 1, 1, 0, 1, 1, 1,\n",
              "       1, 1, 1, 1, 1, 0, 1, 1, 0, 1, 0, 0, 0, 1, 0, 1, 1, 1, 0, 1, 1, 0,\n",
              "       1, 1, 0, 1, 0, 1, 1, 0, 0, 1, 1, 1, 0, 0, 0, 0, 1, 1, 0, 0, 1, 1,\n",
              "       1, 1, 1, 1, 1, 1, 1, 1, 1, 1, 1, 1, 0, 0, 1, 0, 1, 0, 1, 0, 1, 1,\n",
              "       1, 1, 1, 1, 0, 1, 0, 1, 1, 1, 0, 1, 1, 0, 0, 1, 0, 1, 1, 0, 0, 1,\n",
              "       1, 1, 1, 1, 1, 1, 1, 0, 1, 1, 1, 0, 1, 0, 0, 1, 1, 0, 0, 0, 1, 0,\n",
              "       0, 1, 0, 0, 0, 1, 0, 1, 0, 0, 0, 0, 1, 0, 1, 1, 1, 1, 0, 1, 0, 0,\n",
              "       0, 0, 0, 0, 1, 0, 1, 0, 1, 0, 1, 1, 1, 0, 1, 0, 1, 0, 0, 1, 1, 1,\n",
              "       0, 0, 0, 1, 1, 0, 1, 0, 1, 1, 0, 1, 0, 0, 1, 1, 1, 0, 0, 0, 1, 1,\n",
              "       0, 0, 0, 0, 0, 1, 1, 0, 1, 0, 0, 0, 1, 0, 0, 0, 1, 1, 1, 1, 0, 1,\n",
              "       1, 1, 0, 1, 1, 1, 1, 0, 1, 1, 0, 1, 1, 0, 0, 1, 1, 1, 0, 0, 0, 0,\n",
              "       0, 0, 1, 0, 0, 1, 0, 0, 0, 1, 0, 1, 0, 1, 1, 0, 0, 0, 0, 0, 0, 0,\n",
              "       0, 1, 0, 1, 0, 0, 0, 1, 0, 0])"
            ]
          },
          "metadata": {},
          "execution_count": 170
        }
      ]
    },
    {
      "cell_type": "code",
      "source": [
        "# Make dataframe with Pandas\n",
        "import pandas as pd\n",
        "circles = pd.DataFrame({\n",
        "                        \"X1\":X[:,0],\n",
        "                        \"X2\":X[:,1],\n",
        "                        \"label\": y\n",
        "                      })\n"
      ],
      "metadata": {
        "id": "DfsyCMrBQEGZ"
      },
      "execution_count": 171,
      "outputs": []
    },
    {
      "cell_type": "code",
      "source": [
        "circles.head(10)"
      ],
      "metadata": {
        "colab": {
          "base_uri": "https://localhost:8080/",
          "height": 363
        },
        "id": "DLxy9tifQiJb",
        "outputId": "d19fd8ea-5a69-4ed2-d23e-71d92f07b8a8"
      },
      "execution_count": 172,
      "outputs": [
        {
          "output_type": "execute_result",
          "data": {
            "text/plain": [
              "         X1        X2  label\n",
              "0  0.754246  0.231481      1\n",
              "1 -0.756159  0.153259      1\n",
              "2 -0.815392  0.173282      1\n",
              "3 -0.393731  0.692883      1\n",
              "4  0.442208 -0.896723      0\n",
              "5 -0.479646  0.676435      1\n",
              "6 -0.013648  0.803349      1\n",
              "7  0.771513  0.147760      1\n",
              "8 -0.169322 -0.793456      1\n",
              "9 -0.121486  1.021509      0"
            ],
            "text/html": [
              "\n",
              "  <div id=\"df-3a5aea7d-473b-4671-9428-b8c9ce5d45c5\" class=\"colab-df-container\">\n",
              "    <div>\n",
              "<style scoped>\n",
              "    .dataframe tbody tr th:only-of-type {\n",
              "        vertical-align: middle;\n",
              "    }\n",
              "\n",
              "    .dataframe tbody tr th {\n",
              "        vertical-align: top;\n",
              "    }\n",
              "\n",
              "    .dataframe thead th {\n",
              "        text-align: right;\n",
              "    }\n",
              "</style>\n",
              "<table border=\"1\" class=\"dataframe\">\n",
              "  <thead>\n",
              "    <tr style=\"text-align: right;\">\n",
              "      <th></th>\n",
              "      <th>X1</th>\n",
              "      <th>X2</th>\n",
              "      <th>label</th>\n",
              "    </tr>\n",
              "  </thead>\n",
              "  <tbody>\n",
              "    <tr>\n",
              "      <th>0</th>\n",
              "      <td>0.754246</td>\n",
              "      <td>0.231481</td>\n",
              "      <td>1</td>\n",
              "    </tr>\n",
              "    <tr>\n",
              "      <th>1</th>\n",
              "      <td>-0.756159</td>\n",
              "      <td>0.153259</td>\n",
              "      <td>1</td>\n",
              "    </tr>\n",
              "    <tr>\n",
              "      <th>2</th>\n",
              "      <td>-0.815392</td>\n",
              "      <td>0.173282</td>\n",
              "      <td>1</td>\n",
              "    </tr>\n",
              "    <tr>\n",
              "      <th>3</th>\n",
              "      <td>-0.393731</td>\n",
              "      <td>0.692883</td>\n",
              "      <td>1</td>\n",
              "    </tr>\n",
              "    <tr>\n",
              "      <th>4</th>\n",
              "      <td>0.442208</td>\n",
              "      <td>-0.896723</td>\n",
              "      <td>0</td>\n",
              "    </tr>\n",
              "    <tr>\n",
              "      <th>5</th>\n",
              "      <td>-0.479646</td>\n",
              "      <td>0.676435</td>\n",
              "      <td>1</td>\n",
              "    </tr>\n",
              "    <tr>\n",
              "      <th>6</th>\n",
              "      <td>-0.013648</td>\n",
              "      <td>0.803349</td>\n",
              "      <td>1</td>\n",
              "    </tr>\n",
              "    <tr>\n",
              "      <th>7</th>\n",
              "      <td>0.771513</td>\n",
              "      <td>0.147760</td>\n",
              "      <td>1</td>\n",
              "    </tr>\n",
              "    <tr>\n",
              "      <th>8</th>\n",
              "      <td>-0.169322</td>\n",
              "      <td>-0.793456</td>\n",
              "      <td>1</td>\n",
              "    </tr>\n",
              "    <tr>\n",
              "      <th>9</th>\n",
              "      <td>-0.121486</td>\n",
              "      <td>1.021509</td>\n",
              "      <td>0</td>\n",
              "    </tr>\n",
              "  </tbody>\n",
              "</table>\n",
              "</div>\n",
              "    <div class=\"colab-df-buttons\">\n",
              "\n",
              "  <div class=\"colab-df-container\">\n",
              "    <button class=\"colab-df-convert\" onclick=\"convertToInteractive('df-3a5aea7d-473b-4671-9428-b8c9ce5d45c5')\"\n",
              "            title=\"Convert this dataframe to an interactive table.\"\n",
              "            style=\"display:none;\">\n",
              "\n",
              "  <svg xmlns=\"http://www.w3.org/2000/svg\" height=\"24px\" viewBox=\"0 -960 960 960\">\n",
              "    <path d=\"M120-120v-720h720v720H120Zm60-500h600v-160H180v160Zm220 220h160v-160H400v160Zm0 220h160v-160H400v160ZM180-400h160v-160H180v160Zm440 0h160v-160H620v160ZM180-180h160v-160H180v160Zm440 0h160v-160H620v160Z\"/>\n",
              "  </svg>\n",
              "    </button>\n",
              "\n",
              "  <style>\n",
              "    .colab-df-container {\n",
              "      display:flex;\n",
              "      gap: 12px;\n",
              "    }\n",
              "\n",
              "    .colab-df-convert {\n",
              "      background-color: #E8F0FE;\n",
              "      border: none;\n",
              "      border-radius: 50%;\n",
              "      cursor: pointer;\n",
              "      display: none;\n",
              "      fill: #1967D2;\n",
              "      height: 32px;\n",
              "      padding: 0 0 0 0;\n",
              "      width: 32px;\n",
              "    }\n",
              "\n",
              "    .colab-df-convert:hover {\n",
              "      background-color: #E2EBFA;\n",
              "      box-shadow: 0px 1px 2px rgba(60, 64, 67, 0.3), 0px 1px 3px 1px rgba(60, 64, 67, 0.15);\n",
              "      fill: #174EA6;\n",
              "    }\n",
              "\n",
              "    .colab-df-buttons div {\n",
              "      margin-bottom: 4px;\n",
              "    }\n",
              "\n",
              "    [theme=dark] .colab-df-convert {\n",
              "      background-color: #3B4455;\n",
              "      fill: #D2E3FC;\n",
              "    }\n",
              "\n",
              "    [theme=dark] .colab-df-convert:hover {\n",
              "      background-color: #434B5C;\n",
              "      box-shadow: 0px 1px 3px 1px rgba(0, 0, 0, 0.15);\n",
              "      filter: drop-shadow(0px 1px 2px rgba(0, 0, 0, 0.3));\n",
              "      fill: #FFFFFF;\n",
              "    }\n",
              "  </style>\n",
              "\n",
              "    <script>\n",
              "      const buttonEl =\n",
              "        document.querySelector('#df-3a5aea7d-473b-4671-9428-b8c9ce5d45c5 button.colab-df-convert');\n",
              "      buttonEl.style.display =\n",
              "        google.colab.kernel.accessAllowed ? 'block' : 'none';\n",
              "\n",
              "      async function convertToInteractive(key) {\n",
              "        const element = document.querySelector('#df-3a5aea7d-473b-4671-9428-b8c9ce5d45c5');\n",
              "        const dataTable =\n",
              "          await google.colab.kernel.invokeFunction('convertToInteractive',\n",
              "                                                    [key], {});\n",
              "        if (!dataTable) return;\n",
              "\n",
              "        const docLinkHtml = 'Like what you see? Visit the ' +\n",
              "          '<a target=\"_blank\" href=https://colab.research.google.com/notebooks/data_table.ipynb>data table notebook</a>'\n",
              "          + ' to learn more about interactive tables.';\n",
              "        element.innerHTML = '';\n",
              "        dataTable['output_type'] = 'display_data';\n",
              "        await google.colab.output.renderOutput(dataTable, element);\n",
              "        const docLink = document.createElement('div');\n",
              "        docLink.innerHTML = docLinkHtml;\n",
              "        element.appendChild(docLink);\n",
              "      }\n",
              "    </script>\n",
              "  </div>\n",
              "\n",
              "\n",
              "    <div id=\"df-5ba30a16-68ad-490e-bf2c-eb96a8e14e7a\">\n",
              "      <button class=\"colab-df-quickchart\" onclick=\"quickchart('df-5ba30a16-68ad-490e-bf2c-eb96a8e14e7a')\"\n",
              "                title=\"Suggest charts\"\n",
              "                style=\"display:none;\">\n",
              "\n",
              "<svg xmlns=\"http://www.w3.org/2000/svg\" height=\"24px\"viewBox=\"0 0 24 24\"\n",
              "     width=\"24px\">\n",
              "    <g>\n",
              "        <path d=\"M19 3H5c-1.1 0-2 .9-2 2v14c0 1.1.9 2 2 2h14c1.1 0 2-.9 2-2V5c0-1.1-.9-2-2-2zM9 17H7v-7h2v7zm4 0h-2V7h2v10zm4 0h-2v-4h2v4z\"/>\n",
              "    </g>\n",
              "</svg>\n",
              "      </button>\n",
              "\n",
              "<style>\n",
              "  .colab-df-quickchart {\n",
              "      --bg-color: #E8F0FE;\n",
              "      --fill-color: #1967D2;\n",
              "      --hover-bg-color: #E2EBFA;\n",
              "      --hover-fill-color: #174EA6;\n",
              "      --disabled-fill-color: #AAA;\n",
              "      --disabled-bg-color: #DDD;\n",
              "  }\n",
              "\n",
              "  [theme=dark] .colab-df-quickchart {\n",
              "      --bg-color: #3B4455;\n",
              "      --fill-color: #D2E3FC;\n",
              "      --hover-bg-color: #434B5C;\n",
              "      --hover-fill-color: #FFFFFF;\n",
              "      --disabled-bg-color: #3B4455;\n",
              "      --disabled-fill-color: #666;\n",
              "  }\n",
              "\n",
              "  .colab-df-quickchart {\n",
              "    background-color: var(--bg-color);\n",
              "    border: none;\n",
              "    border-radius: 50%;\n",
              "    cursor: pointer;\n",
              "    display: none;\n",
              "    fill: var(--fill-color);\n",
              "    height: 32px;\n",
              "    padding: 0;\n",
              "    width: 32px;\n",
              "  }\n",
              "\n",
              "  .colab-df-quickchart:hover {\n",
              "    background-color: var(--hover-bg-color);\n",
              "    box-shadow: 0 1px 2px rgba(60, 64, 67, 0.3), 0 1px 3px 1px rgba(60, 64, 67, 0.15);\n",
              "    fill: var(--button-hover-fill-color);\n",
              "  }\n",
              "\n",
              "  .colab-df-quickchart-complete:disabled,\n",
              "  .colab-df-quickchart-complete:disabled:hover {\n",
              "    background-color: var(--disabled-bg-color);\n",
              "    fill: var(--disabled-fill-color);\n",
              "    box-shadow: none;\n",
              "  }\n",
              "\n",
              "  .colab-df-spinner {\n",
              "    border: 2px solid var(--fill-color);\n",
              "    border-color: transparent;\n",
              "    border-bottom-color: var(--fill-color);\n",
              "    animation:\n",
              "      spin 1s steps(1) infinite;\n",
              "  }\n",
              "\n",
              "  @keyframes spin {\n",
              "    0% {\n",
              "      border-color: transparent;\n",
              "      border-bottom-color: var(--fill-color);\n",
              "      border-left-color: var(--fill-color);\n",
              "    }\n",
              "    20% {\n",
              "      border-color: transparent;\n",
              "      border-left-color: var(--fill-color);\n",
              "      border-top-color: var(--fill-color);\n",
              "    }\n",
              "    30% {\n",
              "      border-color: transparent;\n",
              "      border-left-color: var(--fill-color);\n",
              "      border-top-color: var(--fill-color);\n",
              "      border-right-color: var(--fill-color);\n",
              "    }\n",
              "    40% {\n",
              "      border-color: transparent;\n",
              "      border-right-color: var(--fill-color);\n",
              "      border-top-color: var(--fill-color);\n",
              "    }\n",
              "    60% {\n",
              "      border-color: transparent;\n",
              "      border-right-color: var(--fill-color);\n",
              "    }\n",
              "    80% {\n",
              "      border-color: transparent;\n",
              "      border-right-color: var(--fill-color);\n",
              "      border-bottom-color: var(--fill-color);\n",
              "    }\n",
              "    90% {\n",
              "      border-color: transparent;\n",
              "      border-bottom-color: var(--fill-color);\n",
              "    }\n",
              "  }\n",
              "</style>\n",
              "\n",
              "      <script>\n",
              "        async function quickchart(key) {\n",
              "          const quickchartButtonEl =\n",
              "            document.querySelector('#' + key + ' button');\n",
              "          quickchartButtonEl.disabled = true;  // To prevent multiple clicks.\n",
              "          quickchartButtonEl.classList.add('colab-df-spinner');\n",
              "          try {\n",
              "            const charts = await google.colab.kernel.invokeFunction(\n",
              "                'suggestCharts', [key], {});\n",
              "          } catch (error) {\n",
              "            console.error('Error during call to suggestCharts:', error);\n",
              "          }\n",
              "          quickchartButtonEl.classList.remove('colab-df-spinner');\n",
              "          quickchartButtonEl.classList.add('colab-df-quickchart-complete');\n",
              "        }\n",
              "        (() => {\n",
              "          let quickchartButtonEl =\n",
              "            document.querySelector('#df-5ba30a16-68ad-490e-bf2c-eb96a8e14e7a button');\n",
              "          quickchartButtonEl.style.display =\n",
              "            google.colab.kernel.accessAllowed ? 'block' : 'none';\n",
              "        })();\n",
              "      </script>\n",
              "    </div>\n",
              "\n",
              "    </div>\n",
              "  </div>\n"
            ],
            "application/vnd.google.colaboratory.intrinsic+json": {
              "type": "dataframe",
              "variable_name": "circles",
              "summary": "{\n  \"name\": \"circles\",\n  \"rows\": 1000,\n  \"fields\": [\n    {\n      \"column\": \"X1\",\n      \"properties\": {\n        \"dtype\": \"number\",\n        \"std\": 0.6398365674574611,\n        \"min\": -1.0595024599098635,\n        \"max\": 1.0337117525463373,\n        \"num_unique_values\": 1000,\n        \"samples\": [\n          -0.3751930206933384,\n          0.015380346701456493,\n          -0.7027835978832848\n        ],\n        \"semantic_type\": \"\",\n        \"description\": \"\"\n      }\n    },\n    {\n      \"column\": \"X2\",\n      \"properties\": {\n        \"dtype\": \"number\",\n        \"std\": 0.6411559581015379,\n        \"min\": -1.0677683182718436,\n        \"max\": 1.0360036756154805,\n        \"num_unique_values\": 1000,\n        \"samples\": [\n          0.6826597225888621,\n          0.9600260220697324,\n          -0.3147169925147762\n        ],\n        \"semantic_type\": \"\",\n        \"description\": \"\"\n      }\n    },\n    {\n      \"column\": \"label\",\n      \"properties\": {\n        \"dtype\": \"number\",\n        \"std\": 0,\n        \"min\": 0,\n        \"max\": 1,\n        \"num_unique_values\": 2,\n        \"samples\": [\n          0,\n          1\n        ],\n        \"semantic_type\": \"\",\n        \"description\": \"\"\n      }\n    }\n  ]\n}"
            }
          },
          "metadata": {},
          "execution_count": 172
        }
      ]
    },
    {
      "cell_type": "code",
      "source": [
        "import matplotlib.pyplot as plt\n",
        "plt.scatter(x=X[:,0], y=X[:,1], c=y, cmap=plt.cm.RdYlBu)"
      ],
      "metadata": {
        "colab": {
          "base_uri": "https://localhost:8080/",
          "height": 448
        },
        "id": "KExCxKczRlmw",
        "outputId": "0c3e6d4f-dcae-4526-8352-e86cc2cfc426"
      },
      "execution_count": 173,
      "outputs": [
        {
          "output_type": "execute_result",
          "data": {
            "text/plain": [
              "<matplotlib.collections.PathCollection at 0x7cd8526f3610>"
            ]
          },
          "metadata": {},
          "execution_count": 173
        },
        {
          "output_type": "display_data",
          "data": {
            "text/plain": [
              "<Figure size 640x480 with 1 Axes>"
            ],
            "image/png": "[encoded data removed]"
          },
          "metadata": {}
        }
      ]
    },
    {
      "cell_type": "code",
      "source": [
        "X.shape, y.shape"
      ],
      "metadata": {
        "colab": {
          "base_uri": "https://localhost:8080/"
        },
        "id": "6kWaoUiDSfAG",
        "outputId": "b35f8ac5-be83-44f0-ae16-6988e3f4399e"
      },
      "execution_count": 174,
      "outputs": [
        {
          "output_type": "execute_result",
          "data": {
            "text/plain": [
              "((1000, 2), (1000,))"
            ]
          },
          "metadata": {},
          "execution_count": 174
        }
      ]
    },
    {
      "cell_type": "code",
      "source": [
        "# View the first example of features and labels\n",
        "X_sample = X[0]\n",
        "y_sample = y[0]\n",
        "print(f\"Sample features: {X_sample}\\nSample label: {y_sample}\")\n",
        "print(f\"Shapes for one sample of X {X_sample.shape} and same for y {y_sample.shape}\")"
      ],
      "metadata": {
        "colab": {
          "base_uri": "https://localhost:8080/"
        },
        "id": "GFF9UbJGUizl",
        "outputId": "514d60ff-0bf5-4cac-c593-63922d1986bb"
      },
      "execution_count": 175,
      "outputs": [
        {
          "output_type": "stream",
          "name": "stdout",
          "text": [
            "Sample features: [0.75424625 0.23148074]\n",
            "Sample label: 1\n",
            "Shapes for one sample of X (2,) and same for y ()\n"
          ]
        }
      ]
    },
    {
      "cell_type": "code",
      "source": [
        "type(X), type(y)"
      ],
      "metadata": {
        "colab": {
          "base_uri": "https://localhost:8080/"
        },
        "id": "rpeODRFEfDBi",
        "outputId": "3da0e117-1921-4bcb-8942-882eb3682e7d"
      },
      "execution_count": 176,
      "outputs": [
        {
          "output_type": "execute_result",
          "data": {
            "text/plain": [
              "(numpy.ndarray, numpy.ndarray)"
            ]
          },
          "metadata": {},
          "execution_count": 176
        }
      ]
    },
    {
      "cell_type": "code",
      "source": [
        "## get the data into tensor\n",
        "import torch\n",
        "print(torch.__version__)\n",
        "type(X)"
      ],
      "metadata": {
        "colab": {
          "base_uri": "https://localhost:8080/"
        },
        "id": "ak5PW5moU1DH",
        "outputId": "1a75d766-5cda-4992-da67-3331eb81c526"
      },
      "execution_count": 177,
      "outputs": [
        {
          "output_type": "stream",
          "name": "stdout",
          "text": [
            "2.6.0+cu124\n"
          ]
        },
        {
          "output_type": "execute_result",
          "data": {
            "text/plain": [
              "numpy.ndarray"
            ]
          },
          "metadata": {},
          "execution_count": 177
        }
      ]
    },
    {
      "cell_type": "code",
      "source": [
        "#check the type of X\n",
        "print(type(X))\n",
        "# convert into a tensor\n",
        "device = \"cuda\" if torch.cuda.is_available() else \"cpu\"\n",
        "print(device)\n",
        "X = torch.from_numpy(X).type(torch.float)\n",
        "y = torch.from_numpy(y).type(torch.float)\n",
        "X.to(device)\n",
        "y.to(device)\n",
        "print(f\"X is now:{type(X)}, y is now:{type(y)}\")"
      ],
      "metadata": {
        "colab": {
          "base_uri": "https://localhost:8080/"
        },
        "id": "WkFUS8JAYTJg",
        "outputId": "8400b030-73de-498c-b9c4-2a2daf7aada7"
      },
      "execution_count": 178,
      "outputs": [
        {
          "output_type": "stream",
          "name": "stdout",
          "text": [
            "<class 'numpy.ndarray'>\n",
            "cpu\n",
            "X is now:<class 'torch.Tensor'>, y is now:<class 'torch.Tensor'>\n"
          ]
        }
      ]
    },
    {
      "cell_type": "code",
      "source": [
        "from sklearn.model_selection import train_test_split\n",
        "X_train, X_test, y_train, y_labels = train_test_split(X,y,test_size=0.2, random_state=42) # 20% of data is test and 80% is training data\n",
        "len(X_train), len(X_test), len(y_train), len(y_labels)"
      ],
      "metadata": {
        "colab": {
          "base_uri": "https://localhost:8080/"
        },
        "id": "Gh9q1vffYg1T",
        "outputId": "0ad7c6e2-b7d5-4407-8fbc-7037e9d6bc11"
      },
      "execution_count": 179,
      "outputs": [
        {
          "output_type": "execute_result",
          "data": {
            "text/plain": [
              "(800, 200, 800, 200)"
            ]
          },
          "metadata": {},
          "execution_count": 179
        }
      ]
    },
    {
      "cell_type": "markdown",
      "source": [
        "# Building a Model\n",
        "\n",
        "we will classify the red or blue dots.\n",
        "\n",
        "to do.\n",
        "1. Set device agnostic code\n",
        "2. construct a model ( by subclassing `nn.Module` )\n",
        "3. define a loss and optimizer\n",
        "4. build a training loop"
      ],
      "metadata": {
        "id": "kGekumSfL7ju"
      }
    },
    {
      "cell_type": "code",
      "source": [
        "import torch\n",
        "from torch import nn\n",
        "device = \"cuda\" if torch.cuda.is_available() else \"cpu\"\n",
        "device"
      ],
      "metadata": {
        "id": "i29AGacabKTu",
        "colab": {
          "base_uri": "https://localhost:8080/",
          "height": 35
        },
        "outputId": "e03659cd-d8df-4810-c1e7-0be755c76b37"
      },
      "execution_count": 180,
      "outputs": [
        {
          "output_type": "execute_result",
          "data": {
            "text/plain": [
              "'cpu'"
            ],
            "application/vnd.google.colaboratory.intrinsic+json": {
              "type": "string"
            }
          },
          "metadata": {},
          "execution_count": 180
        }
      ]
    },
    {
      "cell_type": "markdown",
      "source": [
        "Once we have set device agnostic code we can craete a model\n",
        "\n",
        "to do\n",
        "1. Subclass `nn.Module`\n",
        "2. Create 2 `nn.Linear()` layers that are capable of handling the shapes of our data\n",
        "3. Define `forward()` this outlines the forward pass ( forward computation ) of the model\n",
        "4. Instantiate and instance of our model and send it to a target device"
      ],
      "metadata": {
        "id": "CdZBGeV4N8nQ"
      }
    },
    {
      "cell_type": "code",
      "source": [
        "# Construct a model that subclasses nn.Module\n",
        "class CircleModelV0(nn.Module):\n",
        "  def __init__(self):\n",
        "    super().__init__()\n",
        "    # define two layers that can handle our data\n",
        "    self.layer_1 = nn.Linear(in_features=2, out_features=5)\n",
        "    self.layer_2 = nn.Linear(in_features=5, out_features=1)\n",
        "    self.relu = nn.ReLU()\n",
        "    self.sigmoid = nn.Sigmoid()\n",
        "\n",
        "  def forward(self, x:torch.Tensor)-> torch.Tensor:\n",
        "    return self.layer_2(self.layer_1(x)) # x -> layer_1 -> layer_2 -> output\n",
        "\n",
        "# Instantiate an instance of the class\n",
        "model_0 = CircleModelV0().to(device=device)\n",
        "model_0"
      ],
      "metadata": {
        "colab": {
          "base_uri": "https://localhost:8080/"
        },
        "id": "ee-AwhlaMrcF",
        "outputId": "a99c20d8-3f47-4fd9-afc6-935d02113e42"
      },
      "execution_count": 181,
      "outputs": [
        {
          "output_type": "execute_result",
          "data": {
            "text/plain": [
              "CircleModelV0(\n",
              "  (layer_1): Linear(in_features=2, out_features=5, bias=True)\n",
              "  (layer_2): Linear(in_features=5, out_features=1, bias=True)\n",
              "  (relu): ReLU()\n",
              "  (sigmoid): Sigmoid()\n",
              ")"
            ]
          },
          "metadata": {},
          "execution_count": 181
        }
      ]
    },
    {
      "cell_type": "code",
      "source": [
        "next(model_0.parameters()).device"
      ],
      "metadata": {
        "colab": {
          "base_uri": "https://localhost:8080/"
        },
        "id": "8P2asZIJNVQ4",
        "outputId": "42a138ad-d31b-49af-a31c-5fae715227b6"
      },
      "execution_count": 182,
      "outputs": [
        {
          "output_type": "execute_result",
          "data": {
            "text/plain": [
              "device(type='cpu')"
            ]
          },
          "metadata": {},
          "execution_count": 182
        }
      ]
    },
    {
      "cell_type": "markdown",
      "source": [
        "Lets replicate the model above using nn.Sequential"
      ],
      "metadata": {
        "id": "JOdIEhkvZv1H"
      }
    },
    {
      "cell_type": "code",
      "source": [
        "model_0 = nn.Sequential(\n",
        "    nn.Linear(in_features=2, out_features=5),\n",
        "    nn.Linear(in_features=5, out_features=1),\n",
        ").to(device=device)\n",
        "\n",
        "model_0"
      ],
      "metadata": {
        "colab": {
          "base_uri": "https://localhost:8080/"
        },
        "id": "EoZ-hio6TNku",
        "outputId": "c8b0b713-55dc-45b6-d713-f3ee1a87c3f1"
      },
      "execution_count": 183,
      "outputs": [
        {
          "output_type": "execute_result",
          "data": {
            "text/plain": [
              "Sequential(\n",
              "  (0): Linear(in_features=2, out_features=5, bias=True)\n",
              "  (1): Linear(in_features=5, out_features=1, bias=True)\n",
              ")"
            ]
          },
          "metadata": {},
          "execution_count": 183
        }
      ]
    },
    {
      "cell_type": "code",
      "source": [
        "model_0.state_dict()"
      ],
      "metadata": {
        "colab": {
          "base_uri": "https://localhost:8080/"
        },
        "id": "NkPvwp1AaUeq",
        "outputId": "4b41b63a-866d-4e94-b13e-f02f0f5da7e8"
      },
      "execution_count": 184,
      "outputs": [
        {
          "output_type": "execute_result",
          "data": {
            "text/plain": [
              "OrderedDict([('0.weight',\n",
              "              tensor([[-0.0829, -0.2872],\n",
              "                      [ 0.4691, -0.5582],\n",
              "                      [-0.3260, -0.1997],\n",
              "                      [-0.4252,  0.0667],\n",
              "                      [-0.6984,  0.6386]])),\n",
              "             ('0.bias', tensor([-0.6007,  0.5459,  0.1177, -0.2296,  0.4370])),\n",
              "             ('1.weight',\n",
              "              tensor([[ 0.0697,  0.3613,  0.0489, -0.1410,  0.1202]])),\n",
              "             ('1.bias', tensor([-0.1213]))])"
            ]
          },
          "metadata": {},
          "execution_count": 184
        }
      ]
    },
    {
      "cell_type": "code",
      "source": [
        "device"
      ],
      "metadata": {
        "colab": {
          "base_uri": "https://localhost:8080/",
          "height": 35
        },
        "id": "xGCVDZXqfPY5",
        "outputId": "f718a46f-08b4-4b37-e497-2d13a2a93b3b"
      },
      "execution_count": 185,
      "outputs": [
        {
          "output_type": "execute_result",
          "data": {
            "text/plain": [
              "'cpu'"
            ],
            "application/vnd.google.colaboratory.intrinsic+json": {
              "type": "string"
            }
          },
          "metadata": {},
          "execution_count": 185
        }
      ]
    },
    {
      "cell_type": "code",
      "source": [
        "# make some predictions (model is untrained at the moment)\n",
        "print(device)\n",
        "with torch.inference_mode():\n",
        "  untrained_preds = model_0(X_test.to(device))\n",
        "\n",
        "print(f\"Length of predictons {len(untrained_preds)} shape of predictions {untrained_preds.shape}\")\n",
        "print(f\"Length test samples {len(X_test)} shape of predictions {X_test.shape}\")\n",
        "print(f\"\\nFirst 10 predictions {torch.round(untrained_preds[:10])}\")\n",
        "print(f\"\\nFirst 10 labels {y[:10]}\")"
      ],
      "metadata": {
        "colab": {
          "base_uri": "https://localhost:8080/"
        },
        "id": "N475HaPZbsOp",
        "outputId": "141394aa-3cf8-4920-eab3-b58b4c2e63c2"
      },
      "execution_count": 186,
      "outputs": [
        {
          "output_type": "stream",
          "name": "stdout",
          "text": [
            "cpu\n",
            "Length of predictons 200 shape of predictions torch.Size([200, 1])\n",
            "Length test samples 200 shape of predictions torch.Size([200, 2])\n",
            "\n",
            "First 10 predictions tensor([[-0.],\n",
            "        [-0.],\n",
            "        [0.],\n",
            "        [-0.],\n",
            "        [0.],\n",
            "        [0.],\n",
            "        [0.],\n",
            "        [0.],\n",
            "        [0.],\n",
            "        [-0.]])\n",
            "\n",
            "First 10 labels tensor([1., 1., 1., 1., 0., 1., 1., 1., 1., 0.])\n"
          ]
        }
      ]
    },
    {
      "cell_type": "code",
      "source": [
        "# set up loss function and optimizer\n",
        "loss_fn = nn.BCEWithLogitsLoss()\n",
        "optimizer = torch.optim.SGD(params=model_0.parameters(), lr=0.1)"
      ],
      "metadata": {
        "id": "nKbf8TnFdzm1"
      },
      "execution_count": 187,
      "outputs": []
    },
    {
      "cell_type": "code",
      "source": [
        "# Calculate accuracy out of 100 examples what percentage does the model get right\n",
        "def accuracy_fn(y_true, y_pred):\n",
        "  correct = torch.eq(y_true, y_pred).sum().item()\n",
        "  acc = (correct/len(y_pred))*100\n",
        "  return acc"
      ],
      "metadata": {
        "id": "w6vcOk1jjIB6"
      },
      "execution_count": 188,
      "outputs": []
    },
    {
      "cell_type": "markdown",
      "source": [
        "## Train the model\n",
        "\n",
        "to train the model these are the following steps\n",
        "\n",
        "1. Forward pass\n",
        "2. Calculate the loss\n",
        "3. Optimizer zero grad\n",
        "4. Loss Backwards\n",
        "5. Optimizer step"
      ],
      "metadata": {
        "id": "Bt6c4euUupAl"
      }
    },
    {
      "cell_type": "markdown",
      "source": [
        "### Going from raw logits -> prediction probabilities -> prediction labels\n",
        "\n",
        "the model outputs are going to be raw **logits**.\n",
        "\n",
        "we can convert the these **logits** into **predictions probabilities** by passing them into some kind of activation function (e.g sigmoid for binary crossentropy and softmax for multiclass classification )\n",
        "\n",
        "then we can comvert our model prediction probabilities to **prediction labels** by either rounding them or taking the `argmax()`"
      ],
      "metadata": {
        "id": "T6wE8D1tvchw"
      }
    },
    {
      "cell_type": "code",
      "source": [
        "# make a prediction\n",
        "model_0.eval()\n",
        "with torch.inference_mode():\n",
        "  y_logits = model_0(X_test.to(device))\n",
        "\n",
        "# print first 5 predictions\n",
        "y_logits[:5]"
      ],
      "metadata": {
        "colab": {
          "base_uri": "https://localhost:8080/"
        },
        "id": "N0lYEADHvxJE",
        "outputId": "cca0df93-3d19-41ec-e429-30fae3e9b870"
      },
      "execution_count": 189,
      "outputs": [
        {
          "output_type": "execute_result",
          "data": {
            "text/plain": [
              "tensor([[-0.0338],\n",
              "        [-0.0309],\n",
              "        [ 0.0894],\n",
              "        [-0.0692],\n",
              "        [ 0.2967]])"
            ]
          },
          "metadata": {},
          "execution_count": 189
        }
      ]
    },
    {
      "cell_type": "code",
      "source": [
        "# Use the sigmoid activation function on the model logits to turn them into predictions probabilities\n",
        "y_preds_probs = torch.sigmoid(y_logits)\n",
        "y_preds_probs[:5]"
      ],
      "metadata": {
        "colab": {
          "base_uri": "https://localhost:8080/"
        },
        "id": "3Ex-zGpKvzWK",
        "outputId": "6540dc3e-e8a7-4be3-875c-cd0845bfa752"
      },
      "execution_count": 190,
      "outputs": [
        {
          "output_type": "execute_result",
          "data": {
            "text/plain": [
              "tensor([[0.4916],\n",
              "        [0.4923],\n",
              "        [0.5223],\n",
              "        [0.4827],\n",
              "        [0.5736]])"
            ]
          },
          "metadata": {},
          "execution_count": 190
        }
      ]
    },
    {
      "cell_type": "code",
      "source": [
        "torch.round(y_preds_probs)[:5]"
      ],
      "metadata": {
        "colab": {
          "base_uri": "https://localhost:8080/"
        },
        "id": "yjV19FBg1I-p",
        "outputId": "98b67e99-42dd-4a42-ba66-2c9b6bf40cc4"
      },
      "execution_count": 191,
      "outputs": [
        {
          "output_type": "execute_result",
          "data": {
            "text/plain": [
              "tensor([[0.],\n",
              "        [0.],\n",
              "        [1.],\n",
              "        [0.],\n",
              "        [1.]])"
            ]
          },
          "metadata": {},
          "execution_count": 191
        }
      ]
    },
    {
      "cell_type": "code",
      "source": [
        "# Find the predicted labels\n",
        "y_preds = torch.round(y_preds_probs)\n",
        "# In full (logts->pred probs->pred labels)\n",
        "y_pred_labels = torch.round(torch.sigmoid(model_0(X_test.to(device))))\n",
        "# Check for equality\n",
        "print(torch.eq(y_preds.squeeze(), y_pred_labels.squeeze()))\n",
        "# Get rid of extra dimention\n",
        "y_preds.squeeze()"
      ],
      "metadata": {
        "colab": {
          "base_uri": "https://localhost:8080/"
        },
        "id": "igXsGpdk1bh2",
        "outputId": "d8cd2bc8-56b4-4337-e71e-c5a426c047f6"
      },
      "execution_count": 192,
      "outputs": [
        {
          "output_type": "stream",
          "name": "stdout",
          "text": [
            "tensor([True, True, True, True, True, True, True, True, True, True, True, True,\n",
            "        True, True, True, True, True, True, True, True, True, True, True, True,\n",
            "        True, True, True, True, True, True, True, True, True, True, True, True,\n",
            "        True, True, True, True, True, True, True, True, True, True, True, True,\n",
            "        True, True, True, True, True, True, True, True, True, True, True, True,\n",
            "        True, True, True, True, True, True, True, True, True, True, True, True,\n",
            "        True, True, True, True, True, True, True, True, True, True, True, True,\n",
            "        True, True, True, True, True, True, True, True, True, True, True, True,\n",
            "        True, True, True, True, True, True, True, True, True, True, True, True,\n",
            "        True, True, True, True, True, True, True, True, True, True, True, True,\n",
            "        True, True, True, True, True, True, True, True, True, True, True, True,\n",
            "        True, True, True, True, True, True, True, True, True, True, True, True,\n",
            "        True, True, True, True, True, True, True, True, True, True, True, True,\n",
            "        True, True, True, True, True, True, True, True, True, True, True, True,\n",
            "        True, True, True, True, True, True, True, True, True, True, True, True,\n",
            "        True, True, True, True, True, True, True, True, True, True, True, True,\n",
            "        True, True, True, True, True, True, True, True])\n"
          ]
        },
        {
          "output_type": "execute_result",
          "data": {
            "text/plain": [
              "tensor([0., 0., 1., 0., 1., 1., 1., 1., 1., 0., 0., 0., 1., 1., 1., 1., 1., 0.,\n",
              "        0., 0., 0., 1., 0., 0., 1., 1., 1., 1., 1., 1., 1., 1., 0., 1., 0., 1.,\n",
              "        0., 1., 1., 1., 0., 1., 1., 1., 0., 1., 1., 0., 1., 1., 0., 0., 1., 1.,\n",
              "        1., 1., 1., 1., 0., 0., 1., 1., 0., 1., 0., 0., 1., 1., 0., 1., 1., 1.,\n",
              "        0., 1., 1., 1., 1., 1., 0., 1., 0., 0., 1., 1., 0., 1., 1., 1., 1., 1.,\n",
              "        1., 1., 1., 1., 1., 0., 1., 1., 0., 1., 0., 1., 1., 1., 0., 1., 1., 1.,\n",
              "        1., 1., 0., 0., 1., 1., 1., 1., 1., 1., 1., 1., 0., 1., 1., 0., 1., 1.,\n",
              "        1., 1., 0., 1., 1., 1., 1., 0., 1., 1., 1., 1., 0., 1., 1., 1., 0., 1.,\n",
              "        1., 1., 1., 1., 1., 0., 1., 1., 1., 1., 1., 1., 1., 1., 1., 1., 0., 1.,\n",
              "        1., 0., 1., 1., 1., 1., 1., 1., 1., 1., 1., 1., 1., 1., 1., 1., 1., 1.,\n",
              "        1., 1., 1., 1., 0., 0., 0., 1., 0., 1., 0., 1., 1., 1., 1., 1., 0., 1.,\n",
              "        0., 1.])"
            ]
          },
          "metadata": {},
          "execution_count": 192
        }
      ]
    },
    {
      "cell_type": "markdown",
      "source": [
        "## Build the trainig loop"
      ],
      "metadata": {
        "id": "YZblvHQ_6USB"
      }
    },
    {
      "cell_type": "code",
      "source": [
        "# create seeds for reproduceability\n",
        "MANUAL_SEED = 42\n",
        "torch.manual_seed(MANUAL_SEED)\n",
        "torch.cuda.manual_seed(MANUAL_SEED)\n",
        "epoch = 1000\n",
        "# put the data on the gpu\n",
        "X_train, y_train = X_train.to(device), y_train.to(device)\n",
        "X_test, y_test = X_test.to(device), y_labels.to(device)\n",
        "\n",
        "for epoch in range(epoch):\n",
        "  #training\n",
        "  model_0.train()\n",
        "  #forward pass\n",
        "  y_logits = model_0(X_train).squeeze()\n",
        "  y_preds = torch.round(torch.sigmoid(y_logits)) #turn logits -> pred probs -> pred labels\n",
        "  # Calculate loss/accuracy\n",
        "  loss = loss_fn(y_logits, y_train) # nn.\n",
        "  acc = accuracy_fn(y_true=y_train, y_pred=y_preds)\n",
        "  # optimizer zero grad\n",
        "  optimizer.zero_grad()\n",
        "  # loss backwards\n",
        "  loss.backward()\n",
        "  #optimizer step\n",
        "\n",
        "  ## Testing\n",
        "  model_0.eval()\n",
        "  with torch.inference_mode():\n",
        "    test_logits = model_0(X_test).squeeze()\n",
        "    test_pred = torch.round(torch.sigmoid(test_logits))\n",
        "    # Calculate test loss\n",
        "    test_loss = loss_fn(test_logits, y_test)\n",
        "    test_acc = accuracy_fn(y_true=y_test, y_pred=test_pred)\n",
        "\n",
        "  # Print out\n",
        "  if epoch % 10 == 0:\n",
        "    print(f\"Epoch:{epoch} | Loss:{loss:.5f} | Acc:{acc:.2f}% | Test loss:{test_loss:.5f}, Test acc:{test_acc:2f}%\")\n"
      ],
      "metadata": {
        "colab": {
          "base_uri": "https://localhost:8080/"
        },
        "id": "7pzQNRHv6WuQ",
        "outputId": "db12ab9e-bc5f-4f1d-e214-c82f164be022"
      },
      "execution_count": 193,
      "outputs": [
        {
          "output_type": "stream",
          "name": "stdout",
          "text": [
            "Epoch:0 | Loss:0.69796 | Acc:51.88% | Test loss:0.69462, Test acc:57.500000%\n",
            "Epoch:10 | Loss:0.69796 | Acc:51.88% | Test loss:0.69462, Test acc:57.500000%\n",
            "Epoch:20 | Loss:0.69796 | Acc:51.88% | Test loss:0.69462, Test acc:57.500000%\n",
            "Epoch:30 | Loss:0.69796 | Acc:51.88% | Test loss:0.69462, Test acc:57.500000%\n",
            "Epoch:40 | Loss:0.69796 | Acc:51.88% | Test loss:0.69462, Test acc:57.500000%\n",
            "Epoch:50 | Loss:0.69796 | Acc:51.88% | Test loss:0.69462, Test acc:57.500000%\n",
            "Epoch:60 | Loss:0.69796 | Acc:51.88% | Test loss:0.69462, Test acc:57.500000%\n",
            "Epoch:70 | Loss:0.69796 | Acc:51.88% | Test loss:0.69462, Test acc:57.500000%\n",
            "Epoch:80 | Loss:0.69796 | Acc:51.88% | Test loss:0.69462, Test acc:57.500000%\n",
            "Epoch:90 | Loss:0.69796 | Acc:51.88% | Test loss:0.69462, Test acc:57.500000%\n",
            "Epoch:100 | Loss:0.69796 | Acc:51.88% | Test loss:0.69462, Test acc:57.500000%\n",
            "Epoch:110 | Loss:0.69796 | Acc:51.88% | Test loss:0.69462, Test acc:57.500000%\n",
            "Epoch:120 | Loss:0.69796 | Acc:51.88% | Test loss:0.69462, Test acc:57.500000%\n",
            "Epoch:130 | Loss:0.69796 | Acc:51.88% | Test loss:0.69462, Test acc:57.500000%\n",
            "Epoch:140 | Loss:0.69796 | Acc:51.88% | Test loss:0.69462, Test acc:57.500000%\n",
            "Epoch:150 | Loss:0.69796 | Acc:51.88% | Test loss:0.69462, Test acc:57.500000%\n",
            "Epoch:160 | Loss:0.69796 | Acc:51.88% | Test loss:0.69462, Test acc:57.500000%\n",
            "Epoch:170 | Loss:0.69796 | Acc:51.88% | Test loss:0.69462, Test acc:57.500000%\n",
            "Epoch:180 | Loss:0.69796 | Acc:51.88% | Test loss:0.69462, Test acc:57.500000%\n",
            "Epoch:190 | Loss:0.69796 | Acc:51.88% | Test loss:0.69462, Test acc:57.500000%\n",
            "Epoch:200 | Loss:0.69796 | Acc:51.88% | Test loss:0.69462, Test acc:57.500000%\n",
            "Epoch:210 | Loss:0.69796 | Acc:51.88% | Test loss:0.69462, Test acc:57.500000%\n",
            "Epoch:220 | Loss:0.69796 | Acc:51.88% | Test loss:0.69462, Test acc:57.500000%\n",
            "Epoch:230 | Loss:0.69796 | Acc:51.88% | Test loss:0.69462, Test acc:57.500000%\n",
            "Epoch:240 | Loss:0.69796 | Acc:51.88% | Test loss:0.69462, Test acc:57.500000%\n",
            "Epoch:250 | Loss:0.69796 | Acc:51.88% | Test loss:0.69462, Test acc:57.500000%\n",
            "Epoch:260 | Loss:0.69796 | Acc:51.88% | Test loss:0.69462, Test acc:57.500000%\n",
            "Epoch:270 | Loss:0.69796 | Acc:51.88% | Test loss:0.69462, Test acc:57.500000%\n",
            "Epoch:280 | Loss:0.69796 | Acc:51.88% | Test loss:0.69462, Test acc:57.500000%\n",
            "Epoch:290 | Loss:0.69796 | Acc:51.88% | Test loss:0.69462, Test acc:57.500000%\n",
            "Epoch:300 | Loss:0.69796 | Acc:51.88% | Test loss:0.69462, Test acc:57.500000%\n",
            "Epoch:310 | Loss:0.69796 | Acc:51.88% | Test loss:0.69462, Test acc:57.500000%\n",
            "Epoch:320 | Loss:0.69796 | Acc:51.88% | Test loss:0.69462, Test acc:57.500000%\n",
            "Epoch:330 | Loss:0.69796 | Acc:51.88% | Test loss:0.69462, Test acc:57.500000%\n",
            "Epoch:340 | Loss:0.69796 | Acc:51.88% | Test loss:0.69462, Test acc:57.500000%\n",
            "Epoch:350 | Loss:0.69796 | Acc:51.88% | Test loss:0.69462, Test acc:57.500000%\n",
            "Epoch:360 | Loss:0.69796 | Acc:51.88% | Test loss:0.69462, Test acc:57.500000%\n",
            "Epoch:370 | Loss:0.69796 | Acc:51.88% | Test loss:0.69462, Test acc:57.500000%\n",
            "Epoch:380 | Loss:0.69796 | Acc:51.88% | Test loss:0.69462, Test acc:57.500000%\n",
            "Epoch:390 | Loss:0.69796 | Acc:51.88% | Test loss:0.69462, Test acc:57.500000%\n",
            "Epoch:400 | Loss:0.69796 | Acc:51.88% | Test loss:0.69462, Test acc:57.500000%\n",
            "Epoch:410 | Loss:0.69796 | Acc:51.88% | Test loss:0.69462, Test acc:57.500000%\n",
            "Epoch:420 | Loss:0.69796 | Acc:51.88% | Test loss:0.69462, Test acc:57.500000%\n",
            "Epoch:430 | Loss:0.69796 | Acc:51.88% | Test loss:0.69462, Test acc:57.500000%\n",
            "Epoch:440 | Loss:0.69796 | Acc:51.88% | Test loss:0.69462, Test acc:57.500000%\n",
            "Epoch:450 | Loss:0.69796 | Acc:51.88% | Test loss:0.69462, Test acc:57.500000%\n",
            "Epoch:460 | Loss:0.69796 | Acc:51.88% | Test loss:0.69462, Test acc:57.500000%\n",
            "Epoch:470 | Loss:0.69796 | Acc:51.88% | Test loss:0.69462, Test acc:57.500000%\n",
            "Epoch:480 | Loss:0.69796 | Acc:51.88% | Test loss:0.69462, Test acc:57.500000%\n",
            "Epoch:490 | Loss:0.69796 | Acc:51.88% | Test loss:0.69462, Test acc:57.500000%\n",
            "Epoch:500 | Loss:0.69796 | Acc:51.88% | Test loss:0.69462, Test acc:57.500000%\n",
            "Epoch:510 | Loss:0.69796 | Acc:51.88% | Test loss:0.69462, Test acc:57.500000%\n",
            "Epoch:520 | Loss:0.69796 | Acc:51.88% | Test loss:0.69462, Test acc:57.500000%\n",
            "Epoch:530 | Loss:0.69796 | Acc:51.88% | Test loss:0.69462, Test acc:57.500000%\n",
            "Epoch:540 | Loss:0.69796 | Acc:51.88% | Test loss:0.69462, Test acc:57.500000%\n",
            "Epoch:550 | Loss:0.69796 | Acc:51.88% | Test loss:0.69462, Test acc:57.500000%\n",
            "Epoch:560 | Loss:0.69796 | Acc:51.88% | Test loss:0.69462, Test acc:57.500000%\n",
            "Epoch:570 | Loss:0.69796 | Acc:51.88% | Test loss:0.69462, Test acc:57.500000%\n",
            "Epoch:580 | Loss:0.69796 | Acc:51.88% | Test loss:0.69462, Test acc:57.500000%\n",
            "Epoch:590 | Loss:0.69796 | Acc:51.88% | Test loss:0.69462, Test acc:57.500000%\n",
            "Epoch:600 | Loss:0.69796 | Acc:51.88% | Test loss:0.69462, Test acc:57.500000%\n",
            "Epoch:610 | Loss:0.69796 | Acc:51.88% | Test loss:0.69462, Test acc:57.500000%\n",
            "Epoch:620 | Loss:0.69796 | Acc:51.88% | Test loss:0.69462, Test acc:57.500000%\n",
            "Epoch:630 | Loss:0.69796 | Acc:51.88% | Test loss:0.69462, Test acc:57.500000%\n",
            "Epoch:640 | Loss:0.69796 | Acc:51.88% | Test loss:0.69462, Test acc:57.500000%\n",
            "Epoch:650 | Loss:0.69796 | Acc:51.88% | Test loss:0.69462, Test acc:57.500000%\n",
            "Epoch:660 | Loss:0.69796 | Acc:51.88% | Test loss:0.69462, Test acc:57.500000%\n",
            "Epoch:670 | Loss:0.69796 | Acc:51.88% | Test loss:0.69462, Test acc:57.500000%\n",
            "Epoch:680 | Loss:0.69796 | Acc:51.88% | Test loss:0.69462, Test acc:57.500000%\n",
            "Epoch:690 | Loss:0.69796 | Acc:51.88% | Test loss:0.69462, Test acc:57.500000%\n",
            "Epoch:700 | Loss:0.69796 | Acc:51.88% | Test loss:0.69462, Test acc:57.500000%\n",
            "Epoch:710 | Loss:0.69796 | Acc:51.88% | Test loss:0.69462, Test acc:57.500000%\n",
            "Epoch:720 | Loss:0.69796 | Acc:51.88% | Test loss:0.69462, Test acc:57.500000%\n",
            "Epoch:730 | Loss:0.69796 | Acc:51.88% | Test loss:0.69462, Test acc:57.500000%\n",
            "Epoch:740 | Loss:0.69796 | Acc:51.88% | Test loss:0.69462, Test acc:57.500000%\n",
            "Epoch:750 | Loss:0.69796 | Acc:51.88% | Test loss:0.69462, Test acc:57.500000%\n",
            "Epoch:760 | Loss:0.69796 | Acc:51.88% | Test loss:0.69462, Test acc:57.500000%\n",
            "Epoch:770 | Loss:0.69796 | Acc:51.88% | Test loss:0.69462, Test acc:57.500000%\n",
            "Epoch:780 | Loss:0.69796 | Acc:51.88% | Test loss:0.69462, Test acc:57.500000%\n",
            "Epoch:790 | Loss:0.69796 | Acc:51.88% | Test loss:0.69462, Test acc:57.500000%\n",
            "Epoch:800 | Loss:0.69796 | Acc:51.88% | Test loss:0.69462, Test acc:57.500000%\n",
            "Epoch:810 | Loss:0.69796 | Acc:51.88% | Test loss:0.69462, Test acc:57.500000%\n",
            "Epoch:820 | Loss:0.69796 | Acc:51.88% | Test loss:0.69462, Test acc:57.500000%\n",
            "Epoch:830 | Loss:0.69796 | Acc:51.88% | Test loss:0.69462, Test acc:57.500000%\n",
            "Epoch:840 | Loss:0.69796 | Acc:51.88% | Test loss:0.69462, Test acc:57.500000%\n",
            "Epoch:850 | Loss:0.69796 | Acc:51.88% | Test loss:0.69462, Test acc:57.500000%\n",
            "Epoch:860 | Loss:0.69796 | Acc:51.88% | Test loss:0.69462, Test acc:57.500000%\n",
            "Epoch:870 | Loss:0.69796 | Acc:51.88% | Test loss:0.69462, Test acc:57.500000%\n",
            "Epoch:880 | Loss:0.69796 | Acc:51.88% | Test loss:0.69462, Test acc:57.500000%\n",
            "Epoch:890 | Loss:0.69796 | Acc:51.88% | Test loss:0.69462, Test acc:57.500000%\n",
            "Epoch:900 | Loss:0.69796 | Acc:51.88% | Test loss:0.69462, Test acc:57.500000%\n",
            "Epoch:910 | Loss:0.69796 | Acc:51.88% | Test loss:0.69462, Test acc:57.500000%\n",
            "Epoch:920 | Loss:0.69796 | Acc:51.88% | Test loss:0.69462, Test acc:57.500000%\n",
            "Epoch:930 | Loss:0.69796 | Acc:51.88% | Test loss:0.69462, Test acc:57.500000%\n",
            "Epoch:940 | Loss:0.69796 | Acc:51.88% | Test loss:0.69462, Test acc:57.500000%\n",
            "Epoch:950 | Loss:0.69796 | Acc:51.88% | Test loss:0.69462, Test acc:57.500000%\n",
            "Epoch:960 | Loss:0.69796 | Acc:51.88% | Test loss:0.69462, Test acc:57.500000%\n",
            "Epoch:970 | Loss:0.69796 | Acc:51.88% | Test loss:0.69462, Test acc:57.500000%\n",
            "Epoch:980 | Loss:0.69796 | Acc:51.88% | Test loss:0.69462, Test acc:57.500000%\n",
            "Epoch:990 | Loss:0.69796 | Acc:51.88% | Test loss:0.69462, Test acc:57.500000%\n"
          ]
        }
      ]
    },
    {
      "cell_type": "code",
      "source": [
        "device"
      ],
      "metadata": {
        "colab": {
          "base_uri": "https://localhost:8080/",
          "height": 35
        },
        "id": "SlEQ8IhS6vOX",
        "outputId": "d8577f99-f052-447f-9658-1792016cdde9"
      },
      "execution_count": 194,
      "outputs": [
        {
          "output_type": "execute_result",
          "data": {
            "text/plain": [
              "'cpu'"
            ],
            "application/vnd.google.colaboratory.intrinsic+json": {
              "type": "string"
            }
          },
          "metadata": {},
          "execution_count": 194
        }
      ]
    },
    {
      "cell_type": "markdown",
      "source": [
        "##  Make predictions and evaluate the model\n",
        "\n",
        "From the matrix above it looks like the model is not learning anything\n",
        "\n",
        "to inspect visualise the data\n",
        "\n",
        "helper function -- https://github.com/mrdbourke/pytorch-deep-learning/blob/main/helper_functions.py"
      ],
      "metadata": {
        "id": "F28XfQfP-5mf"
      }
    },
    {
      "cell_type": "code",
      "source": [
        "import requests\n",
        "from pathlib import Path\n",
        "\n",
        "FUNCTION_URL = \"https://raw.githubusercontent.com/mrdbourke/pytorch-deep-learning/refs/heads/main/helper_functions.py\"\n",
        "\n",
        "# Download helper function from repo\n",
        "if Path(\"helper_function.py\").is_file():\n",
        "  print(\"helper function already exists - skipped download\")\n",
        "else:\n",
        "  request = requests.get(FUNCTION_URL)\n",
        "  with open(\"helper_function.py\", \"wb\") as f:\n",
        "    f.write(request.content)\n",
        "\n",
        "from helper_function import plot_predictions, plot_decision_boundary"
      ],
      "metadata": {
        "id": "jxBdodUp_Io2",
        "outputId": "cf9c8ee4-ad5b-4b10-b4e5-ea858b2c9ea9",
        "colab": {
          "base_uri": "https://localhost:8080/"
        }
      },
      "execution_count": 195,
      "outputs": [
        {
          "output_type": "stream",
          "name": "stdout",
          "text": [
            "helper function already exists - skipped download\n"
          ]
        }
      ]
    },
    {
      "cell_type": "code",
      "source": [
        "# Plot decision boundary the model\n",
        "plt.figure(figsize=(12,6))\n",
        "plt.subplot(1,2,1)\n",
        "plt.title(\"Train\")\n",
        "plot_decision_boundary(model_0, X_train, y_train)\n",
        "plt.subplot(1,2,2)\n",
        "plt.title(\"Test\")\n",
        "plot_decision_boundary(model_0, X_test, y_labels)"
      ],
      "metadata": {
        "id": "BgaaE7vL_NZo",
        "outputId": "2bdbeb3e-6278-4171-e802-b51e5057e5f9",
        "colab": {
          "base_uri": "https://localhost:8080/",
          "height": 545
        }
      },
      "execution_count": 196,
      "outputs": [
        {
          "output_type": "display_data",
          "data": {
            "text/plain": [
              "<Figure size 1200x600 with 2 Axes>"
            ],
            "image/png": "[encoded data removed]"
          },
          "metadata": {}
        }
      ]
    },
    {
      "cell_type": "markdown",
      "source": [
        "## Improving the model\n",
        "\n",
        "- Add more layers\n",
        "- Add more hidden units\n",
        "- Fit for longer\n",
        "- Changing activation functions\n",
        "- Change the learning rate\n",
        "- Change the loss function"
      ],
      "metadata": {
        "id": "exfTSsSgMoQa"
      }
    },
    {
      "cell_type": "code",
      "source": [],
      "metadata": {
        "id": "PqCbHfFVMj2f",
        "outputId": "6def5d0e-0023-46dc-881c-c5954e0d80f4",
        "colab": {
          "base_uri": "https://localhost:8080/",
          "height": 35
        }
      },
      "execution_count": 197,
      "outputs": [
        {
          "output_type": "execute_result",
          "data": {
            "text/plain": [
              "'cpu'"
            ],
            "application/vnd.google.colaboratory.intrinsic+json": {
              "type": "string"
            }
          },
          "metadata": {},
          "execution_count": 197
        }
      ]
    },
    {
      "cell_type": "code",
      "source": [],
      "metadata": {
        "id": "5JjH3C6_MvIW"
      },
      "execution_count": 196,
      "outputs": []
    }
  ]
}